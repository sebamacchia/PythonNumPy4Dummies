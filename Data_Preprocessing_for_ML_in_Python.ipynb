{
  "nbformat": 4,
  "nbformat_minor": 0,
  "metadata": {
    "colab": {
      "name": "Data_Preprocessing_for_ML_in_Python.ipynb",
      "version": "0.3.2",
      "provenance": [],
      "include_colab_link": true
    },
    "kernelspec": {
      "name": "python3",
      "display_name": "Python 3"
    }
  },
  "cells": [
    {
      "cell_type": "markdown",
      "metadata": {
        "id": "view-in-github",
        "colab_type": "text"
      },
      "source": [
        "<a href=\"https://colab.research.google.com/github/sebamacchia/python-datascience-cookbook/blob/master/Data_Preprocessing_for_ML_in_Python.ipynb\" target=\"_parent\"><img src=\"https://colab.research.google.com/assets/colab-badge.svg\" alt=\"Open In Colab\"/></a>"
      ]
    },
    {
      "cell_type": "markdown",
      "metadata": {
        "id": "FPQE0pe8Hqkc",
        "colab_type": "text"
      },
      "source": [
        "\n",
        "#Data Preprocessing for Machine learning in Python\n",
        "• Pre-processing refers to the transformations applied to our data before feeding it to the algorithm.\n",
        "\n",
        "• Data Preprocessing is a technique that is used to convert the raw data into a clean data set. In other words, whenever the data is gathered from different sources it is collected in raw format which is not feasible for the analysis.\n",
        "\n",
        "![alt text](https://www.geeksforgeeks.org/wp-content/uploads/ml.png)\n",
        "\n"
      ]
    },
    {
      "cell_type": "code",
      "metadata": {
        "id": "yiohizcrHYtX",
        "colab_type": "code",
        "colab": {}
      },
      "source": [
        "data.head()\n",
        "data.info()\n",
        "data.describe(include=\"all\")\n",
        "data.dtypes"
      ],
      "execution_count": 0,
      "outputs": []
    },
    {
      "cell_type": "code",
      "metadata": {
        "id": "K7iDktnVJMlJ",
        "colab_type": "code",
        "colab": {}
      },
      "source": [
        "#Eliminar datos faltantes con dropna\n",
        "# axis = 0: para eliminar las filas\n",
        "# axis = 1: delete de collumns\n",
        "data.drop('column_index', axis=1).reset_index(drop=True)"
      ],
      "execution_count": 0,
      "outputs": []
    },
    {
      "cell_type": "code",
      "metadata": {
        "id": "acPMa4MKVhyG",
        "colab_type": "code",
        "colab": {}
      },
      "source": [
        "#replace\n",
        "df['edad'].replace(np.nan, promedio)"
      ],
      "execution_count": 0,
      "outputs": []
    },
    {
      "cell_type": "code",
      "metadata": {
        "id": "mnHqPSvwdH46",
        "colab_type": "code",
        "colab": {}
      },
      "source": [
        "#from categories to numbers\n",
        "pd.get_dummies"
      ],
      "execution_count": 0,
      "outputs": []
    },
    {
      "cell_type": "code",
      "metadata": {
        "id": "MD3yy6-7gliH",
        "colab_type": "code",
        "colab": {}
      },
      "source": [
        "# agrupacion de grupos\n",
        "pd.cut"
      ],
      "execution_count": 0,
      "outputs": []
    }
  ]
}