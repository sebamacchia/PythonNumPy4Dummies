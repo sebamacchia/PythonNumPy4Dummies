{
  "nbformat": 4,
  "nbformat_minor": 0,
  "metadata": {
    "kernelspec": {
      "display_name": "Python 3",
      "language": "python",
      "name": "python3"
    },
    "language_info": {
      "codemirror_mode": {
        "name": "ipython",
        "version": 3
      },
      "file_extension": ".py",
      "mimetype": "text/x-python",
      "name": "python",
      "nbconvert_exporter": "python",
      "pygments_lexer": "ipython3",
      "version": "3.7.3"
    },
    "colab": {
      "name": "ALGEBRA_LINEAL.ipynb",
      "version": "0.3.2",
      "provenance": [],
      "include_colab_link": true
    }
  },
  "cells": [
    {
      "cell_type": "markdown",
      "metadata": {
        "id": "view-in-github",
        "colab_type": "text"
      },
      "source": [
        "<a href=\"https://colab.research.google.com/github/sebamacchia/python-datascience-cookbook/blob/master/ALGEBRA_LINEAL.ipynb\" target=\"_parent\"><img src=\"https://colab.research.google.com/assets/colab-badge.svg\" alt=\"Open In Colab\"/></a>"
      ]
    },
    {
      "cell_type": "markdown",
      "metadata": {
        "id": "IqBKwd7v5WIP",
        "colab_type": "text"
      },
      "source": [
        "# Notebook - Álgebra Lineal 1"
      ]
    },
    {
      "cell_type": "markdown",
      "metadata": {
        "id": "hezrKEyy5WIR",
        "colab_type": "text"
      },
      "source": [
        "### Introducción\n",
        "\n",
        "En la práctica de hoy vamos a ver elementos de álgebra lineal. La práctica sigue el programa del [capítulo de álgebra lineal de Deep Learning Book](http://www.deeplearningbook.org/contents/linear_algebra.html). Estamos utilizando las notebooks desarrolladas por [hadrienj](https://hadrienj.github.io/deep-learning-book-series-home/).\n",
        "\n",
        "Ante todo importamos Numpy:"
      ]
    },
    {
      "cell_type": "code",
      "metadata": {
        "id": "tSnpxSWd5WIS",
        "colab_type": "code",
        "colab": {}
      },
      "source": [
        "import numpy as np"
      ],
      "execution_count": 0,
      "outputs": []
    },
    {
      "cell_type": "markdown",
      "metadata": {
        "id": "7qXnAvIL5WIi",
        "colab_type": "text"
      },
      "source": [
        "El código de esta celda nos va sirve para definir el estilo de las imágenes de la notebook."
      ]
    },
    {
      "cell_type": "code",
      "metadata": {
        "id": "IqNBffJO5WIk",
        "colab_type": "code",
        "outputId": "5dd1ee57-9ee9-4f4b-a804-a54dda2bcfee",
        "colab": {
          "base_uri": "https://localhost:8080/",
          "height": 17
        }
      },
      "source": [
        "%%html\n",
        "<style>\n",
        ".pquote {\n",
        "  text-align: left;\n",
        "  margin: 40px 0 40px auto;\n",
        "  width: 70%;\n",
        "  font-size: 1.5em;\n",
        "  font-style: italic;\n",
        "  display: block;\n",
        "  line-height: 1.3em;\n",
        "  color: #5a75a7;\n",
        "  font-weight: 600;\n",
        "  border-left: 5px solid rgba(90, 117, 167, .1);\n",
        "  padding-left: 6px;\n",
        "}\n",
        ".notes {\n",
        "  font-style: italic;\n",
        "  display: block;\n",
        "  margin: 40px 10%;\n",
        "}\n",
        "img + em {\n",
        "  text-align: center;\n",
        "  display: block;\n",
        "  color: gray;\n",
        "  font-size: 0.9em;\n",
        "  font-weight: 600;\n",
        "}\n",
        "</style>"
      ],
      "execution_count": 0,
      "outputs": [
        {
          "output_type": "display_data",
          "data": {
            "text/html": [
              "<style>\n",
              ".pquote {\n",
              "  text-align: left;\n",
              "  margin: 40px 0 40px auto;\n",
              "  width: 70%;\n",
              "  font-size: 1.5em;\n",
              "  font-style: italic;\n",
              "  display: block;\n",
              "  line-height: 1.3em;\n",
              "  color: #5a75a7;\n",
              "  font-weight: 600;\n",
              "  border-left: 5px solid rgba(90, 117, 167, .1);\n",
              "  padding-left: 6px;\n",
              "}\n",
              ".notes {\n",
              "  font-style: italic;\n",
              "  display: block;\n",
              "  margin: 40px 10%;\n",
              "}\n",
              "img + em {\n",
              "  text-align: center;\n",
              "  display: block;\n",
              "  color: gray;\n",
              "  font-size: 0.9em;\n",
              "  font-weight: 600;\n",
              "}\n",
              "</style>"
            ],
            "text/plain": [
              "<IPython.core.display.HTML object>"
            ]
          },
          "metadata": {
            "tags": []
          }
        }
      ]
    },
    {
      "cell_type": "markdown",
      "metadata": {
        "id": "69B_RMLC5WIp",
        "colab_type": "text"
      },
      "source": [
        "## 1 - Escalares, vectores, matrices y tensores\n",
        "\n",
        "Empecemos con unas definiciones básicas:\n",
        "\n",
        "<img src=\"https://raw.githubusercontent.com/sebamacchia/digitalHouse/master/images/images/scalar-vector-matrix-tensor.png?token=AGCOYRMWHOD2SQTLV66TOYS5JH4KO\" width=\"400\" alt=\"An example of a scalar, a vector, a matrix and a tensor\" title=\"Difference between a scalar, a vector, a matrix and a tensor\">\n",
        "<em>\n",
        " \n",
        " Diferencia entre un escalar, un vector, una matriz y un tensor</em>\n",
        "\n",
        "- Una magnitud escalar es aquella que queda completamente determinada con un número y sus correspondientes unidades. Es decir que un escalar se puede representar con un número. \n",
        "- Se llama vector de dimensión $n$, a una tupla de $n$, números (que se llaman componentes del vector).\n",
        "\n",
        "$$\n",
        "{x} =\\begin{bmatrix}\n",
        "    x_1 \\\\\\\\\n",
        "    x_2 \\\\\\\\\n",
        "    \\cdots \\\\\\\\\n",
        "    x_n\n",
        "\\end{bmatrix}\n",
        "$$\n",
        "\n",
        "- Las matrices son arrays de números con dimensiones 2-d por lo que cada elemento debe ser identificado con dos índices en vez de solo con uno. \n",
        "\n",
        "$$\n",
        "{A}=\n",
        "\\begin{bmatrix}\n",
        "    A_{1,1} & A_{1,2} & \\cdots & A_{1,n} \\\\\\\\\n",
        "    A_{2,1} & A_{2,2} & \\cdots & A_{2,n} \\\\\\\\\n",
        "    \\cdots & \\cdots & \\cdots & \\cdots \\\\\\\\\n",
        "    A_{m,1} & A_{m,2} & \\cdots & A_{m,n}\n",
        "\\end{bmatrix}\n",
        "$$\n",
        "\n",
        "- Un tensor es un array $n$-dimensional con $n>2$\n",
        "\n",
        "Vamos a seguir la convención usada en [Deep Learning Book](http://www.deeplearningbook.org/):\n",
        "\n",
        "- Los escalars se escriben en minúscula e itálicas. Por ejemplo: $n$\n",
        "- Los vectores se escriben en minúscula, itálicas y negritas. Por ejemplo: ${x}$\n",
        "- Las matrices se esriben en mayúscula, itálicas y negritas. Por ejemplo: ${X}$"
      ]
    },
    {
      "cell_type": "markdown",
      "metadata": {
        "id": "ydNKviq75WIq",
        "colab_type": "text"
      },
      "source": [
        "#### Ejemplo 1.1: Creamos un vector con Numpy:\n",
        "\n",
        "Para crear el vector, usamos la función `array()`:"
      ]
    },
    {
      "cell_type": "code",
      "metadata": {
        "id": "M2zah10J5WIr",
        "colab_type": "code",
        "outputId": "5df0da3b-b16e-4333-f317-c97b7dc09ae2",
        "colab": {
          "base_uri": "https://localhost:8080/",
          "height": 34
        }
      },
      "source": [
        "x = np.array([1, 2, 3, 4])\n",
        "x"
      ],
      "execution_count": 0,
      "outputs": [
        {
          "output_type": "execute_result",
          "data": {
            "text/plain": [
              "array([1, 2, 3, 4])"
            ]
          },
          "metadata": {
            "tags": []
          },
          "execution_count": 8
        }
      ]
    },
    {
      "cell_type": "markdown",
      "metadata": {
        "id": "Ubo7Wob25WIv",
        "colab_type": "text"
      },
      "source": [
        "Otras formas de crear arrays:"
      ]
    },
    {
      "cell_type": "code",
      "metadata": {
        "id": "BaqGd8yZ5WIw",
        "colab_type": "code",
        "outputId": "55d0a0e1-8920-42df-f03c-f04728056836",
        "colab": {
          "base_uri": "https://localhost:8080/",
          "height": 34
        }
      },
      "source": [
        "# Creamos un vector con ceros\n",
        "\n",
        "np.zeros(10)"
      ],
      "execution_count": 0,
      "outputs": [
        {
          "output_type": "execute_result",
          "data": {
            "text/plain": [
              "array([0., 0., 0., 0., 0., 0., 0., 0., 0., 0.])"
            ]
          },
          "metadata": {
            "tags": []
          },
          "execution_count": 9
        }
      ]
    },
    {
      "cell_type": "code",
      "metadata": {
        "id": "9Iis0qWU5WIz",
        "colab_type": "code",
        "outputId": "c215f62f-f926-4400-de99-270727cedbe5",
        "colab": {
          "base_uri": "https://localhost:8080/",
          "height": 68
        }
      },
      "source": [
        "# Creamos una matriz con ceros\n",
        "\n",
        "np.zeros((3,2))"
      ],
      "execution_count": 0,
      "outputs": [
        {
          "output_type": "execute_result",
          "data": {
            "text/plain": [
              "array([[0., 0.],\n",
              "       [0., 0.],\n",
              "       [0., 0.]])"
            ]
          },
          "metadata": {
            "tags": []
          },
          "execution_count": 10
        }
      ]
    },
    {
      "cell_type": "code",
      "metadata": {
        "id": "FOrGWbFn5WI1",
        "colab_type": "code",
        "outputId": "824de61a-2d78-42c9-d631-19e6d02570de",
        "colab": {
          "base_uri": "https://localhost:8080/",
          "height": 34
        }
      },
      "source": [
        "# Creamos un array como una secuencia de enteros:\n",
        "\n",
        "np.arange(15)"
      ],
      "execution_count": 0,
      "outputs": [
        {
          "output_type": "execute_result",
          "data": {
            "text/plain": [
              "array([ 0,  1,  2,  3,  4,  5,  6,  7,  8,  9, 10, 11, 12, 13, 14])"
            ]
          },
          "metadata": {
            "tags": []
          },
          "execution_count": 11
        }
      ]
    },
    {
      "cell_type": "markdown",
      "metadata": {
        "id": "TIuE0hcF5WI6",
        "colab_type": "text"
      },
      "source": [
        "####  Ejemplo 1.2: Creamos una matriz de 3X2:"
      ]
    },
    {
      "cell_type": "code",
      "metadata": {
        "id": "OQSRRT385WI6",
        "colab_type": "code",
        "outputId": "7d74bfeb-2868-4bf0-87bb-ee8abba73afa",
        "colab": {
          "base_uri": "https://localhost:8080/",
          "height": 68
        }
      },
      "source": [
        "A = np.array([[1, 2], [3, 4], [5, 6]])\n",
        "A"
      ],
      "execution_count": 0,
      "outputs": [
        {
          "output_type": "execute_result",
          "data": {
            "text/plain": [
              "array([[1, 2],\n",
              "       [3, 4],\n",
              "       [5, 6]])"
            ]
          },
          "metadata": {
            "tags": []
          },
          "execution_count": 12
        }
      ]
    },
    {
      "cell_type": "markdown",
      "metadata": {
        "id": "entMahid5WI_",
        "colab_type": "text"
      },
      "source": [
        "### Shape:\n",
        "\n",
        "La forma de una matriz (es decir, sus dimensiones) le indica el número de valores para cada dimensión. Para una matriz $2$ -dimensional, le dará la cantidad de filas y la cantidad de columnas. Busquemos la forma de nuestra matriz $ 2 $ -dimensional anterior `A`. Dado que `A` es una matriz Numpy (se creó con la función `array ()`) puede acceder a su forma con:"
      ]
    },
    {
      "cell_type": "code",
      "metadata": {
        "id": "8DJZM6-j5WJC",
        "colab_type": "code",
        "outputId": "95ece765-e8e1-4819-da12-554e2a858c44",
        "colab": {
          "base_uri": "https://localhost:8080/",
          "height": 34
        }
      },
      "source": [
        "A.shape"
      ],
      "execution_count": 0,
      "outputs": [
        {
          "output_type": "execute_result",
          "data": {
            "text/plain": [
              "(3, 2)"
            ]
          },
          "metadata": {
            "tags": []
          },
          "execution_count": 13
        }
      ]
    },
    {
      "cell_type": "markdown",
      "metadata": {
        "id": "CbXsuDRY5WJF",
        "colab_type": "text"
      },
      "source": [
        "\n",
        "Podemos ver que ${A}$ tiene 3 filas y 2 columnas.\n",
        "\n",
        "Veamos la forma de nuestro primer vector:"
      ]
    },
    {
      "cell_type": "code",
      "metadata": {
        "id": "IctmwBtP5WJF",
        "colab_type": "code",
        "outputId": "aac23f5a-72c0-4daa-cfa1-0a8059debcca",
        "colab": {
          "base_uri": "https://localhost:8080/",
          "height": 34
        }
      },
      "source": [
        "x.shape"
      ],
      "execution_count": 0,
      "outputs": [
        {
          "output_type": "execute_result",
          "data": {
            "text/plain": [
              "(4,)"
            ]
          },
          "metadata": {
            "tags": []
          },
          "execution_count": 14
        }
      ]
    },
    {
      "cell_type": "markdown",
      "metadata": {
        "id": "an4tAMyJ5WJT",
        "colab_type": "text"
      },
      "source": [
        "Como se esperaba, puede ver que ${x}$ tiene solo una dimensión. El número corresponde a la longitud del array:"
      ]
    },
    {
      "cell_type": "code",
      "metadata": {
        "id": "jpkPcpt_5WJU",
        "colab_type": "code",
        "outputId": "ea1a991e-8de4-4994-e17a-f80e0e01601d",
        "colab": {
          "base_uri": "https://localhost:8080/",
          "height": 34
        }
      },
      "source": [
        "len(x)"
      ],
      "execution_count": 0,
      "outputs": [
        {
          "output_type": "execute_result",
          "data": {
            "text/plain": [
              "4"
            ]
          },
          "metadata": {
            "tags": []
          },
          "execution_count": 15
        }
      ]
    },
    {
      "cell_type": "markdown",
      "metadata": {
        "id": "_OhWSLRQ5WJW",
        "colab_type": "text"
      },
      "source": [
        "### Transposición\n",
        "\n",
        "Mediante una transposición, podemos convertir un vector fila en uno columna y viceversa:\n",
        "\n",
        "<img src=\"https://raw.githubusercontent.com/sebamacchia/digitalHouse/master/images/images/vector-transposition.png?token=AGCOYRLQSH3323BVK7PK77S5JH4SG\" alt=\"Transposition of a vector\" title=\"Vector transposition\" width=\"200\">\n",
        "<em>Tranposición de un Vector</em>\n",
        "\n",
        "\n",
        "La transpuesta ${A}^{\\text{T}}$ de la matriz ${A}$ es la imagen espejada de la matriz a lo largo de la diagonal principal. Si la matriz es cuadrada:\n",
        "\n",
        "<img src=\"https://raw.githubusercontent.com/sebamacchia/digitalHouse/master/images/images/square-matrix-transposition.png?token=AGCOYRP74335OB64A4UR5VK5JH4XE\" alt=\"Transposition of a square matrix\" title=\"Square matrix transposition\" width=\"300\">\n",
        "<em>Transposición de una matriz cuadrada</em>\n",
        "\n",
        "Si la matriz no es cuadrada, la idea es la misma:\n",
        "\n",
        "<img src=\"https://raw.githubusercontent.com/sebamacchia/digitalHouse/master/images/images/non-squared-matrix-transposition.png?token=AGCOYRIYINTKWTVUYIU3EIS5JH4ZK\" alt=\"Transposition of a square matrix\" title=\"Non square matrix transposition\" width=\"300\">\n",
        "<em>Transposición de una matriz rectangular</em>\n",
        "\n",
        "\n",
        "El superíndice $^\\text{T}$ se usa para matrices transpuestas:\n",
        "\n",
        "$$\n",
        "{A}=\n",
        "\\begin{bmatrix}\n",
        "    A_{1,1} & A_{1,2} \\\\\\\\\n",
        "    A_{2,1} & A_{2,2} \\\\\\\\\n",
        "    A_{3,1} & A_{3,2}\n",
        "\\end{bmatrix}\n",
        "$$\n",
        "\n",
        "$$\n",
        "{A}^{\\text{T}}=\n",
        "\\begin{bmatrix}\n",
        "    A_{1,1} & A_{2,1} & A_{3,1} \\\\\\\\\n",
        "    A_{1,2} & A_{2,2} & A_{3,2}\n",
        "\\end{bmatrix}\n",
        "$$\n",
        "\n",
        "Las dimensiones de una matriz ($m \\times n$) se convierten en ($n \\times m$).\n",
        "\n",
        "<img src=\"https://raw.githubusercontent.com/sebamacchia/digitalHouse/master/images/images/dimensions-transposition-matrix.png?token=AGCOYRLT2UKTJCTMIUM2MMC5JH43Y\" alt=\"Dimensions of matrix transposition\" title=\"Dimensions of matrix transposition\" width=\"300\">\n",
        "<em>Dimensiones de una matriz transpuesta</em>"
      ]
    },
    {
      "cell_type": "markdown",
      "metadata": {
        "id": "AJp0P5wo5WJY",
        "colab_type": "text"
      },
      "source": [
        "#### Ejemplo 1.3: Creamos una matriz A y la transponemos: "
      ]
    },
    {
      "cell_type": "code",
      "metadata": {
        "id": "gt5DI27N5WJZ",
        "colab_type": "code",
        "outputId": "c6748c2b-2882-4384-dbab-3605bc5718f4",
        "colab": {
          "base_uri": "https://localhost:8080/",
          "height": 68
        }
      },
      "source": [
        "A = np.array([[1, 2], [3, 4], [5, 6]])\n",
        "A"
      ],
      "execution_count": 0,
      "outputs": [
        {
          "output_type": "execute_result",
          "data": {
            "text/plain": [
              "array([[1, 2],\n",
              "       [3, 4],\n",
              "       [5, 6]])"
            ]
          },
          "metadata": {
            "tags": []
          },
          "execution_count": 16
        }
      ]
    },
    {
      "cell_type": "code",
      "metadata": {
        "id": "lAVjNcUh5WJc",
        "colab_type": "code",
        "outputId": "d6a7e4f9-cf96-4ab6-ba8f-fe11792fc423",
        "colab": {
          "base_uri": "https://localhost:8080/",
          "height": 51
        }
      },
      "source": [
        "A_t = A.T\n",
        "A_t"
      ],
      "execution_count": 0,
      "outputs": [
        {
          "output_type": "execute_result",
          "data": {
            "text/plain": [
              "array([[1, 3, 5],\n",
              "       [2, 4, 6]])"
            ]
          },
          "metadata": {
            "tags": []
          },
          "execution_count": 17
        }
      ]
    },
    {
      "cell_type": "markdown",
      "metadata": {
        "id": "AuNVrQ0Y5WJf",
        "colab_type": "text"
      },
      "source": [
        "Podemos verificar las dimensiones de las matrices:"
      ]
    },
    {
      "cell_type": "code",
      "metadata": {
        "id": "4zCQC_gM5WJg",
        "colab_type": "code",
        "outputId": "1b447518-a0d2-431b-9c0f-987c1155b756",
        "colab": {
          "base_uri": "https://localhost:8080/",
          "height": 34
        }
      },
      "source": [
        "A.shape"
      ],
      "execution_count": 0,
      "outputs": [
        {
          "output_type": "execute_result",
          "data": {
            "text/plain": [
              "(3, 2)"
            ]
          },
          "metadata": {
            "tags": []
          },
          "execution_count": 18
        }
      ]
    },
    {
      "cell_type": "code",
      "metadata": {
        "id": "JFrQ2S5k5WJj",
        "colab_type": "code",
        "outputId": "a49a4d33-ca78-4722-e4fc-5eaf2da10e93",
        "colab": {
          "base_uri": "https://localhost:8080/",
          "height": 34
        }
      },
      "source": [
        "A_t.shape"
      ],
      "execution_count": 0,
      "outputs": [
        {
          "output_type": "execute_result",
          "data": {
            "text/plain": [
              "(2, 3)"
            ]
          },
          "metadata": {
            "tags": []
          },
          "execution_count": 19
        }
      ]
    },
    {
      "cell_type": "markdown",
      "metadata": {
        "id": "onj0yveF5WJm",
        "colab_type": "text"
      },
      "source": [
        "### Suma de matrices\n",
        "\n",
        "<img src=\"https://raw.githubusercontent.com/sebamacchia/digitalHouse/master/images/images/matrix-addition.png?token=AGCOYRK66FPOR2SS5YMOP3K5JH5AW\" alt=\"Addition of two matrices\" title=\"Addition of two matrices\" width=\"300\">\n",
        "<em>Suma de 2 matrices</em>\n",
        "\n",
        "Las matrices se pueden sumar si tienen las mismas dimensiones:\n",
        "\n",
        "$${A} + {B} = {C}$$\n",
        "\n",
        "Cada elemento de ${A}$ es sumado con el correspondiente elemento de ${B}$:\n",
        "\n",
        "$${A}_{i,j} + {B}_{i,j} = {C}_{i,j}$$\n",
        "\n",
        "$i$ es el índice de la fila y $j$ el índice de la columna:\n",
        "\n",
        "$$\n",
        "\\begin{bmatrix}\n",
        "    A_{1,1} & A_{1,2} \\\\\\\\\n",
        "    A_{2,1} & A_{2,2} \\\\\\\\\n",
        "    A_{3,1} & A_{3,2}\n",
        "\\end{bmatrix}+\n",
        "\\begin{bmatrix}\n",
        "    B_{1,1} & B_{1,2} \\\\\\\\\n",
        "    B_{2,1} & B_{2,2} \\\\\\\\\n",
        "    B_{3,1} & B_{3,2}\n",
        "\\end{bmatrix}=\n",
        "\\begin{bmatrix}\n",
        "    A_{1,1} + B_{1,1} & A_{1,2} + B_{1,2} \\\\\\\\\n",
        "    A_{2,1} + B_{2,1} & A_{2,2} + B_{2,2} \\\\\\\\\n",
        "    A_{3,1} + B_{3,1} & A_{3,2} + B_{3,2}\n",
        "\\end{bmatrix}\n",
        "$$"
      ]
    },
    {
      "cell_type": "markdown",
      "metadata": {
        "id": "RjY_3dOV5WJn",
        "colab_type": "text"
      },
      "source": [
        "#### Ejemplo 1.4: Creamos 2 matrices y las sumamos: \n",
        "\n",
        "Con Numpy se puede sumar matrices de la misma forma que se suman vectores o escalares."
      ]
    },
    {
      "cell_type": "code",
      "metadata": {
        "id": "geriiXJK5WJn",
        "colab_type": "code",
        "colab": {}
      },
      "source": [
        "A = np.array([[1, 2], [3, 4], [5, 6]])\n",
        "A"
      ],
      "execution_count": 0,
      "outputs": []
    },
    {
      "cell_type": "code",
      "metadata": {
        "id": "m__sNEg55WJq",
        "colab_type": "code",
        "colab": {}
      },
      "source": [
        "B = np.array([[2, 5], [7, 4], [4, 3]])\n",
        "B"
      ],
      "execution_count": 0,
      "outputs": []
    },
    {
      "cell_type": "code",
      "metadata": {
        "id": "34eir1tl5WJx",
        "colab_type": "code",
        "colab": {}
      },
      "source": [
        "# Sumamos las matrices A y B:\n",
        "C = A + B\n",
        "C"
      ],
      "execution_count": 0,
      "outputs": []
    },
    {
      "cell_type": "markdown",
      "metadata": {
        "id": "S1dqJwgh5WJ5",
        "colab_type": "text"
      },
      "source": [
        "También es posible sumar un escalar a una matriz. Esto significa sumar el escalar a cada elemento de la matriz:\n",
        "\n",
        "$$\n",
        "\\alpha+ \\begin{bmatrix}\n",
        "    A_{1,1} & A_{1,2} \\\\\\\\\n",
        "    A_{2,1} & A_{2,2} \\\\\\\\\n",
        "    A_{3,1} & A_{3,2}\n",
        "\\end{bmatrix}=\n",
        "\\begin{bmatrix}\n",
        "    \\alpha + A_{1,1} & \\alpha + A_{1,2} \\\\\\\\\n",
        "    \\alpha + A_{2,1} & \\alpha + A_{2,2} \\\\\\\\\n",
        "    \\alpha + A_{3,1} & \\alpha + A_{3,2}\n",
        "\\end{bmatrix}\n",
        "$$"
      ]
    },
    {
      "cell_type": "markdown",
      "metadata": {
        "id": "iGz-d8pk5WJ7",
        "colab_type": "text"
      },
      "source": [
        "#### Ejemplo 1.5: Sumamos un escalar a una matríz:"
      ]
    },
    {
      "cell_type": "code",
      "metadata": {
        "id": "adJDL42l5WKD",
        "colab_type": "code",
        "outputId": "b2497dbb-5921-4e5f-bfee-abc860e33758",
        "colab": {
          "base_uri": "https://localhost:8080/",
          "height": 68
        }
      },
      "source": [
        "A"
      ],
      "execution_count": 0,
      "outputs": [
        {
          "output_type": "execute_result",
          "data": {
            "text/plain": [
              "array([[1, 2],\n",
              "       [3, 4],\n",
              "       [5, 6]])"
            ]
          },
          "metadata": {
            "tags": []
          },
          "execution_count": 20
        }
      ]
    },
    {
      "cell_type": "code",
      "metadata": {
        "id": "LSFLYdM95WKG",
        "colab_type": "code",
        "outputId": "ee633836-4453-4374-9eaf-020fbfc7cb02",
        "colab": {
          "base_uri": "https://localhost:8080/",
          "height": 68
        }
      },
      "source": [
        "C = A+4\n",
        "C"
      ],
      "execution_count": 0,
      "outputs": [
        {
          "output_type": "execute_result",
          "data": {
            "text/plain": [
              "array([[ 5,  6],\n",
              "       [ 7,  8],\n",
              "       [ 9, 10]])"
            ]
          },
          "metadata": {
            "tags": []
          },
          "execution_count": 21
        }
      ]
    },
    {
      "cell_type": "markdown",
      "metadata": {
        "id": "9Gjp_vZ25WKJ",
        "colab_type": "text"
      },
      "source": [
        "### Broadcasting\n",
        "\n",
        "Numpy puede manejar operaciones en matrices de diferentes dimensiones. La matriz más pequeña se extenderá para que coincida con la forma de la más grande. De hecho, utilizamos broadcasting en el ejemplo 1.5. El escalar se convirtió en una matriz de la misma forma que ${A}$.\n",
        "\n",
        "Veamos otro ejemplo:\n",
        "\n",
        "$$\n",
        "\\begin{bmatrix}\n",
        "    A_{1,1} & A_{1,2} \\\\\\\\\n",
        "    A_{2,1} & A_{2,2} \\\\\\\\\n",
        "    A_{3,1} & A_{3,2}\n",
        "\\end{bmatrix}+\n",
        "\\begin{bmatrix}\n",
        "    B_{1,1} \\\\\\\\\n",
        "    B_{2,1} \\\\\\\\\n",
        "    B_{3,1}\n",
        "\\end{bmatrix}\n",
        "$$\n",
        "\n",
        "es equivalente a:\n",
        "\n",
        "$$\n",
        "\\begin{bmatrix}\n",
        "    A_{1,1} & A_{1,2} \\\\\\\\\n",
        "    A_{2,1} & A_{2,2} \\\\\\\\\n",
        "    A_{3,1} & A_{3,2}\n",
        "\\end{bmatrix}+\n",
        "\\begin{bmatrix}\n",
        "    B_{1,1} & B_{1,1} \\\\\\\\\n",
        "    B_{2,1} & B_{2,1} \\\\\\\\\n",
        "    B_{3,1} & B_{3,1}\n",
        "\\end{bmatrix}=\n",
        "\\begin{bmatrix}\n",
        "    A_{1,1} + B_{1,1} & A_{1,2} + B_{1,1} \\\\\\\\\n",
        "    A_{2,1} + B_{2,1} & A_{2,2} + B_{2,1} \\\\\\\\\n",
        "    A_{3,1} + B_{3,1} & A_{3,2} + B_{3,1}\n",
        "\\end{bmatrix}\n",
        "$$\n"
      ]
    },
    {
      "cell_type": "markdown",
      "metadata": {
        "id": "KGGuJeSq5WKK",
        "colab_type": "text"
      },
      "source": [
        "#### Ejemplo 1.6: Creamos 2 matrices de diferentes dimensiones y las sumamos: "
      ]
    },
    {
      "cell_type": "code",
      "metadata": {
        "id": "RGpWUyv05WKL",
        "colab_type": "code",
        "colab": {}
      },
      "source": [
        "A = np.array([[1, 2], [3, 4], [5, 6]])\n",
        "A"
      ],
      "execution_count": 0,
      "outputs": []
    },
    {
      "cell_type": "code",
      "metadata": {
        "id": "WVw1Cz255WKO",
        "colab_type": "code",
        "outputId": "f5832b31-d61f-4add-f518-1d222eb7cbc1",
        "colab": {
          "base_uri": "https://localhost:8080/",
          "height": 68
        }
      },
      "source": [
        "B = np.array([[2], [4], [6]])\n",
        "B"
      ],
      "execution_count": 0,
      "outputs": [
        {
          "output_type": "execute_result",
          "data": {
            "text/plain": [
              "array([[2],\n",
              "       [4],\n",
              "       [6]])"
            ]
          },
          "metadata": {
            "tags": []
          },
          "execution_count": 23
        }
      ]
    },
    {
      "cell_type": "code",
      "metadata": {
        "id": "HWYnZlMb5WKR",
        "colab_type": "code",
        "outputId": "2e908417-75ed-4e01-f6f4-5e8317b73726",
        "colab": {
          "base_uri": "https://localhost:8080/",
          "height": 68
        }
      },
      "source": [
        "# Broadcasting\n",
        "C=A+B\n",
        "C"
      ],
      "execution_count": 0,
      "outputs": [
        {
          "output_type": "execute_result",
          "data": {
            "text/plain": [
              "array([[ 3,  4],\n",
              "       [ 7,  8],\n",
              "       [11, 12]])"
            ]
          },
          "metadata": {
            "tags": []
          },
          "execution_count": 24
        }
      ]
    },
    {
      "cell_type": "markdown",
      "metadata": {
        "id": "VA37SbQW5WKT",
        "colab_type": "text"
      },
      "source": [
        "#### Reglas del Broacasting: \n",
        "\n",
        "El broadcasting en NumPy sigue un conjunto estricto de reglas para determinar la interacción entre las dos arrays:\n",
        "\n",
        "Regla 1: si los dos arrays difieren en su número de dimensiones, la forma de la que tiene menos dimensiones se rellena con unos en su lado delantero (izquierdo).\n",
        "\n",
        "\n",
        "Regla 2: si la forma de los dos arrays no coincide en alguna dimensión, el array  con forma igual a 1 en esa dimensión se estira para que coincida con la otra.\n",
        "\n",
        "Regla 3: si en alguna dimensión los tamaños son diferentes y ninguno es igual a 1, se genera un error.\n"
      ]
    },
    {
      "cell_type": "markdown",
      "metadata": {
        "id": "oJHZyZvB5WKU",
        "colab_type": "text"
      },
      "source": [
        "## 2 - Multiplicación de matrices y vectores\n",
        "\n",
        "\n",
        "La forma estándar de multiplicar matrices no es multiplicar cada elemento de uno con cada uno de los elementos del otro (este es el producto por elementos) sino calcular la suma de los productos entre filas y columnas. El producto matriz, también llamado **producto escalar**, se calcula de la siguiente manera:\n",
        "\n",
        "<img src=\"https://raw.githubusercontent.com/sebamacchia/digitalHouse/master/images/images/dot-product.png?token=AGCOYRKZ5MTCGJGWXFZHAC25JH56G\" width=\"400\" alt=\"An example of how to calculate the dot product between a matrix and a vector\" title=\"The dot product between a matrix and a vector\">\n",
        "<em>Producto entre una matriz y un vector</em>\n",
        "\n",
        "El número de columnas de la primera matriz debe ser igual al número de filas de la segunda matriz. Por lo tanto, si las dimensiones, o la forma de la primera matriz, es ($ m x n $), la segunda matriz debe tener forma ($ n x p $). La matriz resultante tendrá la forma ($ m x p $).\n"
      ]
    },
    {
      "cell_type": "code",
      "metadata": {
        "id": "KCD-BHab5WKU",
        "colab_type": "code",
        "colab": {}
      },
      "source": [
        "# Avoid inaccurate floating values (for inverse matrices in dot product for instance)\n",
        "# See https://stackoverflow.com/questions/24537791/numpy-matrix-inversion-rounding-errors\n",
        "np.set_printoptions(suppress=True)"
      ],
      "execution_count": 0,
      "outputs": []
    },
    {
      "cell_type": "markdown",
      "metadata": {
        "id": "7uDN7cFt5WKX",
        "colab_type": "text"
      },
      "source": [
        "#### Ejemplo 2.1: multiplicación de una matriz por un vector:\n",
        "\n",
        "\n",
        "La función de Numpy `dot()` se puede usar para calcular el producto matricial."
      ]
    },
    {
      "cell_type": "code",
      "metadata": {
        "id": "zOR_W95y5WKY",
        "colab_type": "code",
        "outputId": "7d17ffc3-c089-4d8d-d77e-00204149593d",
        "colab": {
          "base_uri": "https://localhost:8080/",
          "height": 68
        }
      },
      "source": [
        "A = np.array([[1, 2], [3, 4], [5, 6]])\n",
        "A"
      ],
      "execution_count": 0,
      "outputs": [
        {
          "output_type": "execute_result",
          "data": {
            "text/plain": [
              "array([[1, 2],\n",
              "       [3, 4],\n",
              "       [5, 6]])"
            ]
          },
          "metadata": {
            "tags": []
          },
          "execution_count": 27
        }
      ]
    },
    {
      "cell_type": "code",
      "metadata": {
        "id": "9Wl19EKG5WKa",
        "colab_type": "code",
        "outputId": "a0b80a5b-d88b-4dbe-ee8d-30926d547967",
        "colab": {
          "base_uri": "https://localhost:8080/",
          "height": 51
        }
      },
      "source": [
        "B = np.array([[2], [4]])\n",
        "B"
      ],
      "execution_count": 0,
      "outputs": [
        {
          "output_type": "execute_result",
          "data": {
            "text/plain": [
              "array([[2],\n",
              "       [4]])"
            ]
          },
          "metadata": {
            "tags": []
          },
          "execution_count": 28
        }
      ]
    },
    {
      "cell_type": "code",
      "metadata": {
        "id": "nk55NhGd5WKf",
        "colab_type": "code",
        "outputId": "be185016-ce52-4eaa-c090-52a3a8edebf0",
        "colab": {
          "base_uri": "https://localhost:8080/",
          "height": 68
        }
      },
      "source": [
        "C = np.dot(A, B)\n",
        "C"
      ],
      "execution_count": 0,
      "outputs": [
        {
          "output_type": "execute_result",
          "data": {
            "text/plain": [
              "array([[10],\n",
              "       [22],\n",
              "       [34]])"
            ]
          },
          "metadata": {
            "tags": []
          },
          "execution_count": 29
        }
      ]
    },
    {
      "cell_type": "markdown",
      "metadata": {
        "id": "xkqdcN2A5WKh",
        "colab_type": "text"
      },
      "source": [
        "Es equivalente a usar el método `dot()` de los arrays de Numpy:"
      ]
    },
    {
      "cell_type": "code",
      "metadata": {
        "id": "-hN4nMVG5WKi",
        "colab_type": "code",
        "outputId": "a64556c8-3997-4503-a0a9-5d7295664f18",
        "colab": {
          "base_uri": "https://localhost:8080/",
          "height": 68
        }
      },
      "source": [
        "C = A.dot(B)\n",
        "C"
      ],
      "execution_count": 0,
      "outputs": [
        {
          "output_type": "execute_result",
          "data": {
            "text/plain": [
              "array([[10],\n",
              "       [22],\n",
              "       [34]])"
            ]
          },
          "metadata": {
            "tags": []
          },
          "execution_count": 30
        }
      ]
    },
    {
      "cell_type": "markdown",
      "metadata": {
        "id": "mcZ1jUpM5WKl",
        "colab_type": "text"
      },
      "source": [
        "#### Ejemplo 2.2: multiplicación de 2 matrices:"
      ]
    },
    {
      "cell_type": "code",
      "metadata": {
        "id": "bukpWT6A5WKm",
        "colab_type": "code",
        "colab": {}
      },
      "source": [
        "A = np.array([[1, 2, 3], [4, 5, 6], [7, 8, 9], [10, 11, 12]])\n",
        "A"
      ],
      "execution_count": 0,
      "outputs": []
    },
    {
      "cell_type": "code",
      "metadata": {
        "id": "u2Y7uXGy5WKo",
        "colab_type": "code",
        "colab": {}
      },
      "source": [
        "B = np.array([[2, 7], [1, 2], [3, 6]])\n",
        "B"
      ],
      "execution_count": 0,
      "outputs": []
    },
    {
      "cell_type": "code",
      "metadata": {
        "id": "oknX9ryf5WKw",
        "colab_type": "code",
        "colab": {}
      },
      "source": [
        "C = A.dot(B)\n",
        "C"
      ],
      "execution_count": 0,
      "outputs": []
    },
    {
      "cell_type": "markdown",
      "metadata": {
        "id": "Cct_o5Bu5WK4",
        "colab_type": "text"
      },
      "source": [
        "## Propiedades del producto escalar\n",
        "\n",
        "Ahora veremos algunas propiedades interesantes de la multiplicación de matrices. El uso de ejemplos simples para cada propiedad proporcionará una forma de verificarlos mientras nos acostumbramos a las funciones de Numpy.\n",
        "\n",
        "\n",
        "###  La multiplicación de matrices es distributiva\n",
        "\n",
        "$${A}({B}+{C}) = {AB}+{AC}$$\n",
        "\n",
        "#### Ejemplo 2.3:"
      ]
    },
    {
      "cell_type": "code",
      "metadata": {
        "id": "_gVn5uLN5WK6",
        "colab_type": "code",
        "outputId": "a2562672-30e6-483e-f652-d1e193e42dba",
        "colab": {
          "base_uri": "https://localhost:8080/",
          "height": 68
        }
      },
      "source": [
        "A = np.array([[2, 3], [1, 4], [7, 6]])\n",
        "A"
      ],
      "execution_count": 0,
      "outputs": [
        {
          "output_type": "execute_result",
          "data": {
            "text/plain": [
              "array([[2, 3],\n",
              "       [1, 4],\n",
              "       [7, 6]])"
            ]
          },
          "metadata": {
            "tags": []
          },
          "execution_count": 31
        }
      ]
    },
    {
      "cell_type": "code",
      "metadata": {
        "id": "Hawp4GrR5WK-",
        "colab_type": "code",
        "outputId": "10d45f27-a5cc-4889-ee9f-61f2bfaccddf",
        "colab": {
          "base_uri": "https://localhost:8080/",
          "height": 51
        }
      },
      "source": [
        "B = np.array([[5], [2]])\n",
        "B"
      ],
      "execution_count": 0,
      "outputs": [
        {
          "output_type": "execute_result",
          "data": {
            "text/plain": [
              "array([[5],\n",
              "       [2]])"
            ]
          },
          "metadata": {
            "tags": []
          },
          "execution_count": 32
        }
      ]
    },
    {
      "cell_type": "code",
      "metadata": {
        "id": "dspIv_GW5WLB",
        "colab_type": "code",
        "outputId": "d464d168-33b9-458e-e006-2b83e3049633",
        "colab": {
          "base_uri": "https://localhost:8080/",
          "height": 51
        }
      },
      "source": [
        "C = np.array([[4], [3]])\n",
        "C"
      ],
      "execution_count": 0,
      "outputs": [
        {
          "output_type": "execute_result",
          "data": {
            "text/plain": [
              "array([[4],\n",
              "       [3]])"
            ]
          },
          "metadata": {
            "tags": []
          },
          "execution_count": 33
        }
      ]
    },
    {
      "cell_type": "markdown",
      "metadata": {
        "id": "QHgXbxeO5WLF",
        "colab_type": "text"
      },
      "source": [
        "${A}({B}+{C})$:"
      ]
    },
    {
      "cell_type": "code",
      "metadata": {
        "id": "hqH-7jld5WLG",
        "colab_type": "code",
        "outputId": "18cc1ad2-81ce-42cb-a957-cea9f11116f3",
        "colab": {
          "base_uri": "https://localhost:8080/",
          "height": 68
        }
      },
      "source": [
        "D = A.dot(B+C)\n",
        "D"
      ],
      "execution_count": 0,
      "outputs": [
        {
          "output_type": "execute_result",
          "data": {
            "text/plain": [
              "array([[33],\n",
              "       [29],\n",
              "       [93]])"
            ]
          },
          "metadata": {
            "tags": []
          },
          "execution_count": 34
        }
      ]
    },
    {
      "cell_type": "markdown",
      "metadata": {
        "id": "P1MT4e5M5WLJ",
        "colab_type": "text"
      },
      "source": [
        "Es equivalente a ${AB}+{AC}$:"
      ]
    },
    {
      "cell_type": "code",
      "metadata": {
        "id": "HVEw1Dws5WLK",
        "colab_type": "code",
        "outputId": "047d9cb9-f5bd-4528-b3d1-83966d9ff7da",
        "colab": {
          "base_uri": "https://localhost:8080/",
          "height": 68
        }
      },
      "source": [
        "D = A.dot(B) + A.dot(C)\n",
        "D"
      ],
      "execution_count": 0,
      "outputs": [
        {
          "output_type": "execute_result",
          "data": {
            "text/plain": [
              "array([[33],\n",
              "       [29],\n",
              "       [93]])"
            ]
          },
          "metadata": {
            "tags": []
          },
          "execution_count": 35
        }
      ]
    },
    {
      "cell_type": "markdown",
      "metadata": {
        "id": "0phAKV1Y5WLQ",
        "colab_type": "text"
      },
      "source": [
        "## La multiplicación de matrices es asociativa\n",
        "\n",
        "$${A}({BC}) = ({AB}){C}$$"
      ]
    },
    {
      "cell_type": "code",
      "metadata": {
        "id": "tLNU2s3c5WLW",
        "colab_type": "code",
        "outputId": "3ba51793-b4b6-474e-e5a1-14f1c296546f",
        "colab": {
          "base_uri": "https://localhost:8080/",
          "height": 68
        }
      },
      "source": [
        "A"
      ],
      "execution_count": 0,
      "outputs": [
        {
          "output_type": "execute_result",
          "data": {
            "text/plain": [
              "array([[2, 3],\n",
              "       [1, 4],\n",
              "       [7, 6]])"
            ]
          },
          "metadata": {
            "tags": []
          },
          "execution_count": 41
        }
      ]
    },
    {
      "cell_type": "code",
      "metadata": {
        "id": "Pe00Tdb25WLb",
        "colab_type": "code",
        "outputId": "14601e2e-becf-4a4d-e600-2ce21e4efcf8",
        "colab": {
          "base_uri": "https://localhost:8080/",
          "height": 51
        }
      },
      "source": [
        "B = np.array([[5, 3], [2, 2]])\n",
        "B"
      ],
      "execution_count": 0,
      "outputs": [
        {
          "output_type": "execute_result",
          "data": {
            "text/plain": [
              "array([[5, 3],\n",
              "       [2, 2]])"
            ]
          },
          "metadata": {
            "tags": []
          },
          "execution_count": 42
        }
      ]
    },
    {
      "cell_type": "code",
      "metadata": {
        "id": "0HC3e22y5WLg",
        "colab_type": "code",
        "outputId": "3bb7f045-40e7-4ee0-ebc4-cdcf6fd0974d",
        "colab": {
          "base_uri": "https://localhost:8080/",
          "height": 51
        }
      },
      "source": [
        "C"
      ],
      "execution_count": 0,
      "outputs": [
        {
          "output_type": "execute_result",
          "data": {
            "text/plain": [
              "array([[4],\n",
              "       [3]])"
            ]
          },
          "metadata": {
            "tags": []
          },
          "execution_count": 43
        }
      ]
    },
    {
      "cell_type": "markdown",
      "metadata": {
        "id": "_jrpLghs5WLo",
        "colab_type": "text"
      },
      "source": [
        "${A}({BC})$:"
      ]
    },
    {
      "cell_type": "code",
      "metadata": {
        "id": "LuUO4ICT5WLp",
        "colab_type": "code",
        "outputId": "2a962b74-e6f3-4198-8577-dc86e921ccce",
        "colab": {
          "base_uri": "https://localhost:8080/",
          "height": 68
        }
      },
      "source": [
        "D = A.dot(B.dot(C))\n",
        "D"
      ],
      "execution_count": 0,
      "outputs": [
        {
          "output_type": "execute_result",
          "data": {
            "text/plain": [
              "array([[100],\n",
              "       [ 85],\n",
              "       [287]])"
            ]
          },
          "metadata": {
            "tags": []
          },
          "execution_count": 44
        }
      ]
    },
    {
      "cell_type": "markdown",
      "metadata": {
        "id": "aNqDLdJ15WLv",
        "colab_type": "text"
      },
      "source": [
        "Es equivalente a $({AB}){C}$:"
      ]
    },
    {
      "cell_type": "code",
      "metadata": {
        "id": "EhZl7Sdp5WL5",
        "colab_type": "code",
        "outputId": "249b777d-a413-49f9-8582-63deeacd937d",
        "colab": {
          "base_uri": "https://localhost:8080/",
          "height": 68
        }
      },
      "source": [
        "D = (A.dot(B)).dot(C)\n",
        "D"
      ],
      "execution_count": 0,
      "outputs": [
        {
          "output_type": "execute_result",
          "data": {
            "text/plain": [
              "array([[100],\n",
              "       [ 85],\n",
              "       [287]])"
            ]
          },
          "metadata": {
            "tags": []
          },
          "execution_count": 40
        }
      ]
    },
    {
      "cell_type": "markdown",
      "metadata": {
        "id": "nljtcEdT5WL_",
        "colab_type": "text"
      },
      "source": [
        "## La multiplicación de matrices no es conmutativa\n",
        "\n",
        "$${AB} \\neq {BA}$$"
      ]
    },
    {
      "cell_type": "code",
      "metadata": {
        "id": "HLy5mYqi5WMC",
        "colab_type": "code",
        "outputId": "651330bd-61e6-4099-c35b-7b188201ade1",
        "colab": {
          "base_uri": "https://localhost:8080/",
          "height": 51
        }
      },
      "source": [
        "A = np.array([[2, 3], [6, 5]])\n",
        "A"
      ],
      "execution_count": 0,
      "outputs": [
        {
          "output_type": "execute_result",
          "data": {
            "text/plain": [
              "array([[2, 3],\n",
              "       [6, 5]])"
            ]
          },
          "metadata": {
            "tags": []
          },
          "execution_count": 45
        }
      ]
    },
    {
      "cell_type": "code",
      "metadata": {
        "id": "l7T6gVoH5WML",
        "colab_type": "code",
        "outputId": "efc434fd-3765-4ce9-8f0c-592f411a6687",
        "colab": {
          "base_uri": "https://localhost:8080/",
          "height": 51
        }
      },
      "source": [
        "B = np.array([[5, 3], [2, 2]])\n",
        "B"
      ],
      "execution_count": 0,
      "outputs": [
        {
          "output_type": "execute_result",
          "data": {
            "text/plain": [
              "array([[5, 3],\n",
              "       [2, 2]])"
            ]
          },
          "metadata": {
            "tags": []
          },
          "execution_count": 46
        }
      ]
    },
    {
      "cell_type": "markdown",
      "metadata": {
        "id": "o103eNYj5WMP",
        "colab_type": "text"
      },
      "source": [
        "${AB}$:"
      ]
    },
    {
      "cell_type": "code",
      "metadata": {
        "id": "FC3vCAfq5WMQ",
        "colab_type": "code",
        "outputId": "ebc525c4-6f6c-43b8-cacc-25b855881f1d",
        "colab": {
          "base_uri": "https://localhost:8080/",
          "height": 51
        }
      },
      "source": [
        "AB = np.dot(A, B)\n",
        "AB"
      ],
      "execution_count": 0,
      "outputs": [
        {
          "output_type": "execute_result",
          "data": {
            "text/plain": [
              "array([[16, 12],\n",
              "       [40, 28]])"
            ]
          },
          "metadata": {
            "tags": []
          },
          "execution_count": 47
        }
      ]
    },
    {
      "cell_type": "markdown",
      "metadata": {
        "id": "wbLBn1Ew5WMS",
        "colab_type": "text"
      },
      "source": [
        "Es diferente a ${BA}$:"
      ]
    },
    {
      "cell_type": "code",
      "metadata": {
        "id": "68jYr-cU5WMS",
        "colab_type": "code",
        "outputId": "d1bf413d-8ef0-4d20-8743-d7a495125b84",
        "colab": {
          "base_uri": "https://localhost:8080/",
          "height": 51
        }
      },
      "source": [
        "BA = np.dot(B, A)\n",
        "BA"
      ],
      "execution_count": 0,
      "outputs": [
        {
          "output_type": "execute_result",
          "data": {
            "text/plain": [
              "array([[28, 30],\n",
              "       [16, 16]])"
            ]
          },
          "metadata": {
            "tags": []
          },
          "execution_count": 48
        }
      ]
    },
    {
      "cell_type": "markdown",
      "metadata": {
        "id": "SwO8C6ea5WMU",
        "colab_type": "text"
      },
      "source": [
        "##### Sin embargo, la multiplicación vectorial es conmutativa\n",
        "\n",
        "$${x^{ \\text{T}}y} = {y^{\\text{T}}x} $$"
      ]
    },
    {
      "cell_type": "code",
      "metadata": {
        "id": "A72XiyLA5WMV",
        "colab_type": "code",
        "outputId": "79aebe92-22ad-427e-a19f-9e5247fd0199",
        "colab": {
          "base_uri": "https://localhost:8080/",
          "height": 51
        }
      },
      "source": [
        "x = np.array([[2], [6]])\n",
        "x"
      ],
      "execution_count": 0,
      "outputs": [
        {
          "output_type": "execute_result",
          "data": {
            "text/plain": [
              "array([[2],\n",
              "       [6]])"
            ]
          },
          "metadata": {
            "tags": []
          },
          "execution_count": 49
        }
      ]
    },
    {
      "cell_type": "code",
      "metadata": {
        "id": "N2Wo8_6c5WMa",
        "colab_type": "code",
        "outputId": "b50517aa-a11d-49ea-83a8-b939e8b24de6",
        "colab": {
          "base_uri": "https://localhost:8080/",
          "height": 51
        }
      },
      "source": [
        "y = np.array([[5], [2]])\n",
        "y"
      ],
      "execution_count": 0,
      "outputs": [
        {
          "output_type": "execute_result",
          "data": {
            "text/plain": [
              "array([[5],\n",
              "       [2]])"
            ]
          },
          "metadata": {
            "tags": []
          },
          "execution_count": 50
        }
      ]
    },
    {
      "cell_type": "markdown",
      "metadata": {
        "id": "LG91jRJ95WMc",
        "colab_type": "text"
      },
      "source": [
        "${x^\\text{T}y}$:"
      ]
    },
    {
      "cell_type": "code",
      "metadata": {
        "id": "lE4lEjZY5WMd",
        "colab_type": "code",
        "outputId": "04130d56-184f-4483-b15d-22a9704a256a",
        "colab": {
          "base_uri": "https://localhost:8080/",
          "height": 34
        }
      },
      "source": [
        "x_ty = x.T.dot(y)\n",
        "x_ty"
      ],
      "execution_count": 0,
      "outputs": [
        {
          "output_type": "execute_result",
          "data": {
            "text/plain": [
              "array([[22]])"
            ]
          },
          "metadata": {
            "tags": []
          },
          "execution_count": 51
        }
      ]
    },
    {
      "cell_type": "markdown",
      "metadata": {
        "id": "Vx4XDN4l5WMq",
        "colab_type": "text"
      },
      "source": [
        "Es equivalente a ${y^\\text{T}x}$:"
      ]
    },
    {
      "cell_type": "code",
      "metadata": {
        "id": "l8iaFRan5WMr",
        "colab_type": "code",
        "outputId": "94ae25d2-223c-4661-c101-e877dc82626c",
        "colab": {
          "base_uri": "https://localhost:8080/",
          "height": 34
        }
      },
      "source": [
        "y_tx = y.T.dot(x)\n",
        "y_tx"
      ],
      "execution_count": 0,
      "outputs": [
        {
          "output_type": "execute_result",
          "data": {
            "text/plain": [
              "array([[22]])"
            ]
          },
          "metadata": {
            "tags": []
          },
          "execution_count": 52
        }
      ]
    },
    {
      "cell_type": "markdown",
      "metadata": {
        "id": "kKwAVCtq5WMt",
        "colab_type": "text"
      },
      "source": [
        "##### $$({AB})^{\\text{T}} = {B}^\\text{T}{A}^\\text{T}$$"
      ]
    },
    {
      "cell_type": "code",
      "metadata": {
        "id": "jaTvidJB5WMt",
        "colab_type": "code",
        "outputId": "21a8cdb4-d8b0-43d3-8cd7-cc76c309b785",
        "colab": {
          "base_uri": "https://localhost:8080/",
          "height": 68
        }
      },
      "source": [
        "A = np.array([[2, 3], [1, 4], [7, 6]])\n",
        "A"
      ],
      "execution_count": 0,
      "outputs": [
        {
          "output_type": "execute_result",
          "data": {
            "text/plain": [
              "array([[2, 3],\n",
              "       [1, 4],\n",
              "       [7, 6]])"
            ]
          },
          "metadata": {
            "tags": []
          },
          "execution_count": 53
        }
      ]
    },
    {
      "cell_type": "code",
      "metadata": {
        "id": "uVLzvL_95WMw",
        "colab_type": "code",
        "colab": {}
      },
      "source": [
        "B = np.array([[5, 3], [2, 2]])\n",
        "B"
      ],
      "execution_count": 0,
      "outputs": []
    },
    {
      "cell_type": "markdown",
      "metadata": {
        "id": "iyl458xS5WMz",
        "colab_type": "text"
      },
      "source": [
        "$({AB})^{\\text{T}}$:"
      ]
    },
    {
      "cell_type": "code",
      "metadata": {
        "id": "ZddMOs8M5WM0",
        "colab_type": "code",
        "colab": {}
      },
      "source": [
        "AB_t = A.dot(B).T\n",
        "AB_t"
      ],
      "execution_count": 0,
      "outputs": []
    },
    {
      "cell_type": "markdown",
      "metadata": {
        "id": "PXRQUF0G5WM2",
        "colab_type": "text"
      },
      "source": [
        "Es equivalente to ${B}^\\text{T}{A}^\\text{T}$:"
      ]
    },
    {
      "cell_type": "code",
      "metadata": {
        "id": "wJH0RVm05WM3",
        "colab_type": "code",
        "colab": {}
      },
      "source": [
        "B_tA = B.T.dot(A.T)\n",
        "B_tA"
      ],
      "execution_count": 0,
      "outputs": []
    },
    {
      "cell_type": "markdown",
      "metadata": {
        "id": "JpmnuPex5WM6",
        "colab_type": "text"
      },
      "source": [
        "## 3 - Matriz identidad e inversa de una matriz\n",
        "\n",
        "\n",
        "### Matriz identidad\n",
        "\n",
        "La matriz de identidad ${I}_n$ es una matriz especial de forma ($n \\times n$) que se llena con $0$ excepto la diagonal que se llena con 1.\n",
        "\n",
        "<img src=\"https://raw.githubusercontent.com/sebamacchia/digitalHouse/master/images/images/identity-matrix.png?token=AGCOYRMVFZKN2VU3U4A3NRS5JH5KM\" width=\"150\" alt=\"Example of an identity matrix\" title=\"Identity matrix\">\n",
        "<em>Matriz identidad 3X3</em>"
      ]
    },
    {
      "cell_type": "markdown",
      "metadata": {
        "id": "lp4pNDIe5WM7",
        "colab_type": "text"
      },
      "source": [
        "Se puede crear una matriz de identidad con la función de Numpy `eye()`:"
      ]
    },
    {
      "cell_type": "code",
      "metadata": {
        "id": "pVq1pcVY5WM8",
        "colab_type": "code",
        "outputId": "b31e5253-fa68-4dec-af3f-cbf302cbeee6",
        "colab": {
          "base_uri": "https://localhost:8080/",
          "height": 68
        }
      },
      "source": [
        "np.eye(3)"
      ],
      "execution_count": 0,
      "outputs": [
        {
          "output_type": "execute_result",
          "data": {
            "text/plain": [
              "array([[1., 0., 0.],\n",
              "       [0., 1., 0.],\n",
              "       [0., 0., 1.]])"
            ]
          },
          "metadata": {
            "tags": []
          },
          "execution_count": 54
        }
      ]
    },
    {
      "cell_type": "markdown",
      "metadata": {
        "id": "yC7Rpo7t5WM_",
        "colab_type": "text"
      },
      "source": [
        "Cuando aplicamos la matriz identidad a un vector, el resultado es el mismo vector:\n",
        "\n",
        "$${I}_n{x} = {x}$$\n",
        "\n",
        "#### Ejemplo 3.1:\n",
        "\n",
        "$$\n",
        "\\begin{bmatrix}\n",
        "    1 & 0 & 0 \\\\\\\\\n",
        "    0 & 1 & 0 \\\\\\\\\n",
        "    0 & 0 & 1\n",
        "\\end{bmatrix}\n",
        "\\times\n",
        "\\begin{bmatrix}\n",
        "    x_{1} \\\\\\\\\n",
        "    x_{2} \\\\\\\\\n",
        "    x_{3}\n",
        "\\end{bmatrix}=\n",
        "\\begin{bmatrix}\n",
        "    1 \\times x_1 + 0 \\times x_2 + 0\\times x_3 \\\\\\\\\n",
        "    0 \\times x_1 + 1 \\times x_2 + 0\\times x_3 \\\\\\\\\n",
        "    0 \\times x_1 + 0 \\times x_2 + 1\\times x_3\n",
        "\\end{bmatrix}=\n",
        "\\begin{bmatrix}\n",
        "    x_{1} \\\\\\\\\n",
        "    x_{2} \\\\\\\\\n",
        "    x_{3}\n",
        "\\end{bmatrix}\n",
        "$$"
      ]
    },
    {
      "cell_type": "code",
      "metadata": {
        "id": "zQrm_HB35WNA",
        "colab_type": "code",
        "outputId": "8226c910-39b5-4e52-deb6-e633d46d0c08",
        "colab": {
          "base_uri": "https://localhost:8080/",
          "height": 68
        }
      },
      "source": [
        "x = np.array([[2], [6], [3]])\n",
        "x"
      ],
      "execution_count": 0,
      "outputs": [
        {
          "output_type": "execute_result",
          "data": {
            "text/plain": [
              "array([[2],\n",
              "       [6],\n",
              "       [3]])"
            ]
          },
          "metadata": {
            "tags": []
          },
          "execution_count": 55
        }
      ]
    },
    {
      "cell_type": "code",
      "metadata": {
        "id": "YjUO4olj5WND",
        "colab_type": "code",
        "outputId": "ecd5ad9b-011c-4bb8-ab4e-e8452091cc44",
        "colab": {
          "base_uri": "https://localhost:8080/",
          "height": 68
        }
      },
      "source": [
        "xid = np.eye(x.shape[0]).dot(x)\n",
        "xid"
      ],
      "execution_count": 0,
      "outputs": [
        {
          "output_type": "execute_result",
          "data": {
            "text/plain": [
              "array([[2.],\n",
              "       [6.],\n",
              "       [3.]])"
            ]
          },
          "metadata": {
            "tags": []
          },
          "execution_count": 56
        }
      ]
    },
    {
      "cell_type": "markdown",
      "metadata": {
        "id": "Sg8Lv5Cx5WNG",
        "colab_type": "text"
      },
      "source": [
        "### Matrices inversas\n",
        "\n",
        "La matriz inversa de ${A}$ se denota ${A}^{- 1}$. Es la matriz que da como resultado la matriz de identidad cuando se multiplica por ${A}$:\n",
        "\n",
        "$${A}^{-1}{A}={I}_n$$\n",
        "\n",
        "Esto significa que si aplicamos una transformación lineal al espacio con ${A}$, es posible regresar con ${A}^{- 1}$. Proporciona una forma de cancelar la transformación.\n",
        "\n",
        "#### Ejemplo 3.2.\n",
        "\n",
        "$$\n",
        "{A}=\\begin{bmatrix}\n",
        "    3 & 0 & 2 \\\\\\\\\n",
        "    2 & 0 & -2 \\\\\\\\\n",
        "    0 & 1 & 1\n",
        "\\end{bmatrix}\n",
        "$$\n",
        "\n",
        "\n",
        "Para este ejemplo, utilizaremos la función de Numpy `linalg.inv()` para calcular la inversa de ${A}$. Comencemos creando ${A}$:"
      ]
    },
    {
      "cell_type": "code",
      "metadata": {
        "id": "tOZkA_J15WNH",
        "colab_type": "code",
        "outputId": "09891b32-ed55-4e3b-a243-2e356f96a19a",
        "colab": {
          "base_uri": "https://localhost:8080/",
          "height": 68
        }
      },
      "source": [
        "A = np.array([[3, 0, 2], [2, 0, -2], [0, 1, 1]])\n",
        "A"
      ],
      "execution_count": 0,
      "outputs": [
        {
          "output_type": "execute_result",
          "data": {
            "text/plain": [
              "array([[ 3,  0,  2],\n",
              "       [ 2,  0, -2],\n",
              "       [ 0,  1,  1]])"
            ]
          },
          "metadata": {
            "tags": []
          },
          "execution_count": 57
        }
      ]
    },
    {
      "cell_type": "markdown",
      "metadata": {
        "id": "_xB09Jug5WNK",
        "colab_type": "text"
      },
      "source": [
        "Ahora calculamos su inversa:"
      ]
    },
    {
      "cell_type": "code",
      "metadata": {
        "id": "YD7asi4D5WNL",
        "colab_type": "code",
        "outputId": "ef849ab9-798c-4482-f732-a85d904a9d6f",
        "colab": {
          "base_uri": "https://localhost:8080/",
          "height": 68
        }
      },
      "source": [
        "A_inv = np.linalg.inv(A)\n",
        "A_inv"
      ],
      "execution_count": 0,
      "outputs": [
        {
          "output_type": "execute_result",
          "data": {
            "text/plain": [
              "array([[ 0.2,  0.2,  0. ],\n",
              "       [-0.2,  0.3,  1. ],\n",
              "       [ 0.2, -0.3, -0. ]])"
            ]
          },
          "metadata": {
            "tags": []
          },
          "execution_count": 60
        }
      ]
    },
    {
      "cell_type": "markdown",
      "metadata": {
        "id": "c9S8RJOP5WNO",
        "colab_type": "text"
      },
      "source": [
        "Chequeamos que efectivamente hayamos obtenido la inversa:"
      ]
    },
    {
      "cell_type": "code",
      "metadata": {
        "id": "BhuctUeH5WNP",
        "colab_type": "code",
        "outputId": "bee5df45-b3e6-450c-bd5e-67cf5bf31b7c",
        "colab": {
          "base_uri": "https://localhost:8080/",
          "height": 68
        }
      },
      "source": [
        "A_bis = A_inv.dot(A)\n",
        "A_bis"
      ],
      "execution_count": 0,
      "outputs": [
        {
          "output_type": "execute_result",
          "data": {
            "text/plain": [
              "array([[ 1.,  0., -0.],\n",
              "       [ 0.,  1.,  0.],\n",
              "       [ 0.,  0.,  1.]])"
            ]
          },
          "metadata": {
            "tags": []
          },
          "execution_count": 61
        }
      ]
    },
    {
      "cell_type": "markdown",
      "metadata": {
        "id": "JyXnLHhl5WNT",
        "colab_type": "text"
      },
      "source": [
        "Veremos que la inversa de las matrices puede ser muy útil, por ejemplo, para resolver un conjunto de ecuaciones lineales. Sin embargo, debemos tener en cuenta que las matrices no cuadradas (matrices con más columnas que filas o más filas que columnas) no tienen inversa."
      ]
    },
    {
      "cell_type": "markdown",
      "metadata": {
        "id": "PdVBW9t25WNT",
        "colab_type": "text"
      },
      "source": [
        "### Solución de un sistema de ecuaciones lineales:\n",
        "\n",
        "La matriz inversa se puede usar para resolver la ecuación ${Ax} = {b} $ agregándola a cada término:\n",
        "\n",
        "$${A}^{-1}{Ax}={A}^{-1}{b}$$\n",
        "\n",
        "Como sabemos por definición que ${A}^{- 1}{A} = {I}$, tenemos:\n",
        "\n",
        "$${I}_n{x}={A}^{-1}{b}$$\n",
        "\n",
        "Vimos que un vector no cambia cuando se multiplica por la matriz de identidad. Entonces podemos escribir:\n",
        "\n",
        "$${x}={A}^{-1}{b}$$\n",
        "\n",
        "¡Esto es genial! ¡Podemos resolver un conjunto de ecuaciones lineales simplemente calculando el inverso de ${A}$ y aplicando esta matriz al vector de resultados ${b}$!"
      ]
    },
    {
      "cell_type": "markdown",
      "metadata": {
        "id": "hGUG66XR5WNV",
        "colab_type": "text"
      },
      "source": [
        "#### Ejemplo 3.3:\n",
        "\n",
        "Veamos un ejemplo simple con una solución definida:\n",
        "\n",
        "$$\n",
        "\\begin{cases}\n",
        "y = 2x \\\\\\\\\n",
        "y = -x +3\n",
        "\\end{cases}\n",
        "$$\n",
        "\n",
        "Teniendo en cuenta la siguiente notación:\n",
        "\n",
        "$$\n",
        "\\begin{cases}\n",
        "A_{1,1}x_1 + A_{1,2}x_2 = b_1 \\\\\\\\\n",
        "A_{2,1}x_1 + A_{2,2}x_2= b_2\n",
        "\\end{cases}\n",
        "$$\n",
        "\n",
        "\n",
        "Aquí, $x_1$ corresponde a $x$ y $x_2$ corresponde a $y$. Entonces tenemos:\n",
        "\n",
        "$$\n",
        "\\begin{cases}\n",
        "2x_1 - x_2 = 0 \\\\\\\\\n",
        "x_1 + x_2= 3\n",
        "\\end{cases}\n",
        "$$\n",
        "\n",
        "Nuestra matriz ${A}$ de coeficientes es:\n",
        "\n",
        "$$\n",
        "{A}=\n",
        "\\begin{bmatrix}\n",
        "    2 & -1 \\\\\\\\\n",
        "    1 & 1\n",
        "\\end{bmatrix}\n",
        "$$\n",
        "\n",
        "Y el vector ${b}$ que contiene las soluciones de ecuaciones individuales es:\n",
        "\n",
        "$$\n",
        "{b}=\n",
        "\\begin{bmatrix}\n",
        "    0 \\\\\\\\\n",
        "    3\n",
        "\\end{bmatrix}\n",
        "$$\n",
        "\n",
        "Nuestro sistema expresado en forma matricial:\n",
        "\n",
        "$$\n",
        "\\begin{bmatrix}\n",
        "    2 & -1 \\\\\\\\\n",
        "    1 & 1\n",
        "\\end{bmatrix}\n",
        "\\begin{bmatrix}\n",
        "    x_1 \\\\\\\\\n",
        "    x_2\n",
        "\\end{bmatrix}=\n",
        "\\begin{bmatrix}\n",
        "    0 \\\\\\\\\n",
        "    3\n",
        "\\end{bmatrix}\n",
        "$$\n",
        "\n",
        "Busquemos la inversa de ${A}$:"
      ]
    },
    {
      "cell_type": "code",
      "metadata": {
        "id": "33iAXONv5WNd",
        "colab_type": "code",
        "outputId": "44200cad-355a-4510-a39a-57857c8b9c0c",
        "colab": {
          "base_uri": "https://localhost:8080/",
          "height": 51
        }
      },
      "source": [
        "A = np.array([[2, -1], [1, 1]])\n",
        "A"
      ],
      "execution_count": 0,
      "outputs": [
        {
          "output_type": "execute_result",
          "data": {
            "text/plain": [
              "array([[ 2, -1],\n",
              "       [ 1,  1]])"
            ]
          },
          "metadata": {
            "tags": []
          },
          "execution_count": 64
        }
      ]
    },
    {
      "cell_type": "code",
      "metadata": {
        "id": "A3zNqYWr5WNk",
        "colab_type": "code",
        "outputId": "35320b1e-8d53-4e69-ecbc-a35de8a1e3c0",
        "colab": {
          "base_uri": "https://localhost:8080/",
          "height": 51
        }
      },
      "source": [
        "A_inv = np.linalg.inv(A)\n",
        "A_inv"
      ],
      "execution_count": 0,
      "outputs": [
        {
          "output_type": "execute_result",
          "data": {
            "text/plain": [
              "array([[ 0.33333333,  0.33333333],\n",
              "       [-0.33333333,  0.66666667]])"
            ]
          },
          "metadata": {
            "tags": []
          },
          "execution_count": 65
        }
      ]
    },
    {
      "cell_type": "code",
      "metadata": {
        "id": "mzalk2-t5WNm",
        "colab_type": "code",
        "outputId": "586fc519-2902-4ce4-ac93-0bdb4c9749df",
        "colab": {
          "base_uri": "https://localhost:8080/",
          "height": 51
        }
      },
      "source": [
        "b = np.array([[0], [3]])\n",
        "b"
      ],
      "execution_count": 0,
      "outputs": [
        {
          "output_type": "execute_result",
          "data": {
            "text/plain": [
              "array([[0],\n",
              "       [3]])"
            ]
          },
          "metadata": {
            "tags": []
          },
          "execution_count": 66
        }
      ]
    },
    {
      "cell_type": "markdown",
      "metadata": {
        "id": "W7PZnF3Q5WNo",
        "colab_type": "text"
      },
      "source": [
        "Dado que:\n",
        "\n",
        "$${x}={A}^{-1}{b}$$\n",
        "\n",
        "Tenemos:"
      ]
    },
    {
      "cell_type": "code",
      "metadata": {
        "id": "N2aUY5KR5WNp",
        "colab_type": "code",
        "outputId": "f73b18b9-b79a-4e73-d6b1-341c4f4be7bc",
        "colab": {
          "base_uri": "https://localhost:8080/",
          "height": 51
        }
      },
      "source": [
        "x = A_inv.dot(b)\n",
        "x"
      ],
      "execution_count": 0,
      "outputs": [
        {
          "output_type": "execute_result",
          "data": {
            "text/plain": [
              "array([[1.],\n",
              "       [2.]])"
            ]
          },
          "metadata": {
            "tags": []
          },
          "execution_count": 67
        }
      ]
    },
    {
      "cell_type": "markdown",
      "metadata": {
        "id": "Ctkbkeqc5WNr",
        "colab_type": "text"
      },
      "source": [
        "Esta es nuestra solución:\n",
        "\n",
        "$$\n",
        "{x}=\n",
        "\\begin{bmatrix}\n",
        "    1 \\\\\\\\\n",
        "    2\n",
        "\\end{bmatrix}\n",
        "$$\n",
        "\n",
        "Esto significa que el punto de coordenadas (1, 2) es la solución y está en la intersección de las líneas que representan las ecuaciones. Vamos a trazarlos para verificar esta solución:"
      ]
    },
    {
      "cell_type": "code",
      "metadata": {
        "id": "oh6B0h_j5WNs",
        "colab_type": "code",
        "colab": {}
      },
      "source": [
        "import matplotlib.pyplot as plt\n",
        "import seaborn as sns"
      ],
      "execution_count": 0,
      "outputs": []
    },
    {
      "cell_type": "code",
      "metadata": {
        "id": "2O5NKJvF5WNu",
        "colab_type": "code",
        "outputId": "cc494821-5fd6-4dab-b181-ecb10c6ed4d8",
        "colab": {
          "base_uri": "https://localhost:8080/",
          "height": 269
        }
      },
      "source": [
        "x = np.arange(-10, 10)\n",
        "y = 2*x\n",
        "y1 = -x + 3\n",
        "\n",
        "plt.figure()\n",
        "plt.plot(x, y)\n",
        "plt.plot(x, y1)\n",
        "plt.xlim(0, 3)\n",
        "plt.ylim(0, 3)\n",
        "# draw axes\n",
        "plt.axvline(x=0, color='grey')\n",
        "plt.axhline(y=0, color='grey')\n",
        "plt.show()"
      ],
      "execution_count": 0,
      "outputs": [
        {
          "output_type": "display_data",
          "data": {
            "image/png": "[encoded data removed]",
            "text/plain": [
              "<Figure size 432x288 with 1 Axes>"
            ]
          },
          "metadata": {
            "tags": []
          }
        }
      ]
    },
    {
      "cell_type": "markdown",
      "metadata": {
        "id": "x56DM-ii5WNv",
        "colab_type": "text"
      },
      "source": [
        "Podemos ver que la solución (correspondiente al cruce de línea) es cuando $x = 1$ y $y = 2$. ¡Confirma lo que encontramos con la inversión de la matriz!"
      ]
    },
    {
      "cell_type": "markdown",
      "metadata": {
        "id": "r-6jnx7v5WNv",
        "colab_type": "text"
      },
      "source": [
        "### Matrices singulares\n",
        "\n",
        "Algunas matrices no son invertibles. Se llaman **singulares**."
      ]
    },
    {
      "cell_type": "markdown",
      "metadata": {
        "id": "03V-FJoO5WNw",
        "colab_type": "text"
      },
      "source": [
        "## 4 - Dependencia lineal y sistema de generadores\n",
        "\n",
        "Comencemos nuevamente con el conjunto de ecuaciones:\n",
        "\n",
        "$${Ax}={b}$$\n",
        "\n",
        "Este sistema corresponde a:\n",
        "\n",
        "$$\n",
        "A_{1,1}x_1 + A_{1,2}x_2 + \\cdots + A_{1,n}x_n = b_1 \\\\\\\\\n",
        "A_{2,1}x_1 + A_{2,2}x_2 + \\cdots + A_{2,n}x_n = b_2 \\\\\\\\\n",
        "\\cdots \\\\\\\\\n",
        "A_{m,1}x_1 + A_{m,2}x_2 + \\cdots + A_{m,n}x_n = b_m\n",
        "$$\n",
        "\n",
        "Entonces tenemos múltiples ecuaciones con múltiples incógnitas. Conocemos $A_{1,1} ... A_{m, n}$ y $b_1 ... b_m$. Para resolver el sistema necesitamos encontrar los valores de las variables $x_1 ... x_n$ que satisfacen todas las ecuaciones.\n"
      ]
    },
    {
      "cell_type": "markdown",
      "metadata": {
        "id": "OAofgryD5WNx",
        "colab_type": "text"
      },
      "source": [
        "### Número de soluciones:\n",
        "\n",
        "Lo primero que debemos preguntar cuando nos enfrentamos a este sistema de ecuaciones es: ¿cuál es el número de soluciones?\n",
        "\n",
        "Tres casos pueden representar el número de soluciones del sistema de ecuaciones ${Ax} = {b}$.\n",
        " \n",
        " 1. Sin solución\n",
        " 2. 1 solución\n",
        " 3. Un número infinito de soluciones.\n",
        " \n",
        "#### ¿Por qué no puede haber más de 1 solución y menos de un número infinito de soluciones?\n",
        "\n",
        "#### Intuición:\n",
        "\n",
        "¡Simplemente porque tratamos con sistemas **lineales**! Dos líneas no pueden cruzarse más de una vez.\n",
        "\n",
        "Para poder visualizarlo, tomemos dos dimensiones y dos ecuaciones. Las soluciones del sistema corresponden a la intersección de las líneas. Una opción es que las dos líneas nunca se crucen (paralelas). Otra opción es que se crucen una vez. Y finalmente, la última opción es que se crucen en todas partes (superpuestas):\n",
        "\n",
        "<img src=\"images/number-solutions-system-equations.png\" width=\"700\" alt=\"Examples of systems of equations with 0, 1 and an infinite number of solutions\" title=\"System of equations with 0, 1 and an infinite number of solutions\">\n",
        "<em>Un sistema de ecuaciones no tiene solución, 1 solución o un número infinito de soluciones</em>\n",
        "\n",
        "<span class='pquote'>\n",
        "    Dos rectas no pueden cruzarse más de una vez, pero pueden ser paralelas o superpuestas\n",
        "</span>\n"
      ]
    },
    {
      "cell_type": "markdown",
      "metadata": {
        "id": "LTrRIceh5WNx",
        "colab_type": "text"
      },
      "source": [
        "### Representación matricial del sistema.\n",
        "\n",
        "Como lo vimos, la ecuación ${Ax} = {b}$ se puede representar mediante una matriz ${A}$ que contiene los coeficientes de cada variable y un vector ${x}$ que contiene cada variable.\n",
        "\n",
        "El producto de ${A}$ y ${x}$ da ${b}$ que es otro vector de tamaño $m$:\n",
        "\n",
        "$$\n",
        "\\begin{bmatrix}\n",
        "    A_{1,1} & A_{1,2} & \\cdots & A_{1,n} \\\\\\\\\n",
        "    A_{2,1} & A_{2,2} & \\cdots & A_{2,n} \\\\\\\\\n",
        "    \\cdots & \\cdots & \\cdots & \\cdots \\\\\\\\\n",
        "    A_{m,1} & A_{m,2} & \\cdots & A_{m,n}\n",
        "\\end{bmatrix}\n",
        "\\times\n",
        "\\begin{bmatrix}\n",
        "    x_1 \\\\\\\\\n",
        "    x_2 \\\\\\\\\n",
        "    \\cdots \\\\\\\\\n",
        "    x_n\n",
        "\\end{bmatrix}\n",
        "=\n",
        "\\begin{bmatrix}\n",
        "    b_1 \\\\\\\\\n",
        "    b_2 \\\\\\\\\n",
        "    \\cdots \\\\\\\\\n",
        "    b_m\n",
        "\\end{bmatrix}\n",
        "$$\n",
        "\n",
        "\n",
        "Que corresponde al conjunto de ecuaciones lineales\n",
        "\n",
        "$$\n",
        "A_{1,1}x_1 + A_{1,2}x_2 + \\cdots + A_{1,n}x_n = b_1 \\\\\\\\\n",
        "A_{2,1}x_1 + A_{2,2}x_2 + \\cdots + A_{2,n}x_n = b_2 \\\\\\\\\n",
        "\\cdots \\\\\\\\\n",
        "A_{m,1}x_1 + A_{m,2}x_2 + \\cdots + A_{m,n}x_n = b_m\n",
        "$$\n",
        "\n",
        "Aquí hay algunas intuiciones sobre lo que representan estas matrices. El número de columnas de ${A}$ es el número de dimensiones de nuestro espacio vectorial. Es el número $n$ de direcciones por las que podemos viajar. El número de soluciones de nuestro sistema lineal corresponde al número de formas en que podemos alcanzar ${b}$ viajando a través de nuestras dimensiones $n$."
      ]
    },
    {
      "cell_type": "markdown",
      "metadata": {
        "id": "WUSdxJ4s5WN0",
        "colab_type": "text"
      },
      "source": [
        "### Sistemas compatibles/incompatibles y determinados/indeterminados\n",
        "\n",
        "- Sistema compatible si tiene solución, en este caso además puede distinguirse entre:\n",
        "    - Sistema compatible determinado cuando tiene una única solución.\n",
        "    - Sistema compatible indeterminado cuando admite un conjunto infinito de soluciones.\n",
        "    - Sistema incompatible si no tiene solución.\n",
        "\n",
        "\n",
        "\n",
        "\n",
        "En el siguiente ejemplo podemos ver un sistema de 3 ecuaciones (representadas por 3 rectas) y 2 incógnitas (correspondientes a 2 dimensiones). En este ejemplo no hay solución ya que no hay ningún punto que pertenezca a las tres líneas. Es un sistema incompatible.\n",
        "\n",
        "<img src=\"images/overdetermined-system-linear-equations.png\" width=\"300\" alt=\"Example of an overdetermined system of linear equations with no solution\" title=\"Example of an overdetermined system of linear equations with no solution\">\n",
        "<em>Ejemplo de un sistema incompatible de ecuaciones lineales sin solución</em>\n",
        "\n",
        "\n",
        "- Si hay más incógnitas que ecuaciones, el sistema se llama **indeterminado**. En la siguiente imagen, solo hay 1 ecuación (1 recta) y 2 dimensiones. Cada punto que está en la línea es una solución del sistema. En este caso hay un número infinito de soluciones:\n",
        "\n",
        "<img src=\"images/underdetermined-system-linear-equations.png\" width=\"300\" alt=\"Example of an underdetermined system of linear equations with an infinite number of solutions\" title=\"Example of an underdetermined system of linear equations with an infinite number of solutions\">\n",
        "<em>Ejemplo de un sistema indeterminado de ecuaciones lineales con un número infinito de soluciones.</em>\n",
        "\n",
        "\n",
        "Veamos algunos ejemplos de estos diferentes casos para aclarar eso."
      ]
    },
    {
      "cell_type": "markdown",
      "metadata": {
        "id": "OVtZ0Nsw5WN0",
        "colab_type": "text"
      },
      "source": [
        "#### Ejemplo 4.1.\n",
        "\n",
        "$m$=2, $n$=2: **2 ecuaciones y 2 incógnitas**\n",
        "\n",
        "$$\n",
        "A_{1,1}x_1 + A_{1,2}x_2 = b_1\\\\\\\\\n",
        "A_{2,1}x_1 + A_{2,2}x_2 = b_2\n",
        "$$"
      ]
    },
    {
      "cell_type": "markdown",
      "metadata": {
        "id": "7EFfl9fz5WN1",
        "colab_type": "text"
      },
      "source": [
        "Tomemos estas ecuaciones como ejemplo:\n",
        "\n",
        "$$\n",
        "\\begin{cases}\n",
        "y = 2x + 1\\\\\\\\\n",
        "y = 6x - 2\n",
        "\\end{cases}\n",
        "$$"
      ]
    },
    {
      "cell_type": "code",
      "metadata": {
        "id": "yjU9wkEm5WN1",
        "colab_type": "code",
        "outputId": "7fdcb43f-d3a8-490f-a56d-90aa4e861448",
        "colab": {
          "base_uri": "https://localhost:8080/",
          "height": 269
        }
      },
      "source": [
        "x = np.arange(-10, 10)\n",
        "y = 2*x + 1\n",
        "y1 = 6*x - 2\n",
        "\n",
        "plt.figure()\n",
        "plt.plot(x, y)\n",
        "plt.plot(x, y1)\n",
        "plt.xlim(-2, 10)\n",
        "plt.ylim(-2, 10)\n",
        "# draw axes\n",
        "plt.axvline(x=0, color='#A9A9A9')\n",
        "plt.axhline(y=0, color='#A9A9A9')\n",
        "plt.show()"
      ],
      "execution_count": 0,
      "outputs": [
        {
          "output_type": "display_data",
          "data": {
            "image/png": "[encoded data removed]",
            "text/plain": [
              "<Figure size 432x288 with 1 Axes>"
            ]
          },
          "metadata": {
            "tags": []
          }
        }
      ]
    },
    {
      "cell_type": "markdown",
      "metadata": {
        "id": "yf8wlCjM5WN4",
        "colab_type": "text"
      },
      "source": [
        "Como hemos visto, con 2 rectas en un espacio 2-D, existen múltiples casos posibles. En la figura anterior, las dos líneas se cruzan, por lo que hay una solución única. Si se superponen hay un número infinito de soluciones ya que cada punto de las líneas corresponde a una intersección. Si son paralelos, no hay solución.\n",
        "\n",
        "Lo mismo puede observarse con otros valores de $m$ (número de ecuaciones) y $n$ (número de dimensiones). Por ejemplo, dos planos bidimensionales en un espacio tridimensional pueden superponerse (infinitas soluciones) o cruzarse (infinitas soluciones ya que su cruce es una línea) o paralelos (sin solución)."
      ]
    },
    {
      "cell_type": "markdown",
      "metadata": {
        "id": "NBY9GZua5WN5",
        "colab_type": "text"
      },
      "source": [
        "#### Ejemplo 4.2\n",
        "\n",
        "$m$=3, $n$=2: **3 ecuaciones y 2 incógnitas**\n",
        "\n",
        "$$\n",
        "A_{1,1}x_1 + A_{1,2}x_2 = b_1\\\\\\\\\n",
        "A_{2,1}x_1 + A_{2,2}x_2 = b_2\\\\\\\\\n",
        "A_{3,1}x_1 + A_{3,2}x_2 = b_3\n",
        "$$\n",
        "\n",
        "La misma idea se presenta con más de 2 ecuaciones en un espacio 2-D. En ese ejemplo tenemos las siguientes 3 ecuaciones:\n",
        "\n",
        "$$\n",
        "\\begin{cases}\n",
        "y = 2x + 1\\\\\\\\\n",
        "y = 6x - 2\\\\\\\\\n",
        "y = \\frac{1}{10}x+6\n",
        "\\end{cases}\n",
        "$$"
      ]
    },
    {
      "cell_type": "code",
      "metadata": {
        "id": "hioXii9g5WN6",
        "colab_type": "code",
        "outputId": "b19803fe-4c99-4262-f665-5c27d9798409",
        "colab": {
          "base_uri": "https://localhost:8080/",
          "height": 269
        }
      },
      "source": [
        "x = np.arange(-10, 10)\n",
        "y = 2*x + 1\n",
        "\n",
        "y1 = 6*x - 2\n",
        "y2 = 0.1*x+6\n",
        "\n",
        "plt.figure()\n",
        "plt.plot(x, y)\n",
        "plt.plot(x, y1)\n",
        "plt.plot(x, y2)\n",
        "plt.xlim(-2, 10)\n",
        "plt.ylim(-2, 10)\n",
        "# draw axes\n",
        "plt.axvline(x=0, color='#A9A9A9')\n",
        "plt.axhline(y=0, color='#A9A9A9')\n",
        "plt.show()\n",
        "plt.close()"
      ],
      "execution_count": 0,
      "outputs": [
        {
          "output_type": "display_data",
          "data": {
            "image/png": "[encoded data removed]",
            "text/plain": [
              "<Figure size 432x288 with 1 Axes>"
            ]
          },
          "metadata": {
            "tags": []
          }
        }
      ]
    },
    {
      "cell_type": "markdown",
      "metadata": {
        "id": "CylcY3tl5WN_",
        "colab_type": "text"
      },
      "source": [
        "### Combinación Lineal\n",
        "\n",
        "La combinación lineal de 2 vectores corresponde a su suma ponderada.\n",
        "\n",
        "#### Example 4.3:\n",
        "\n",
        "Tomemos 2 vectores:\n",
        "\n",
        "$$\n",
        "\\vec{u}=\n",
        "\\begin{bmatrix}\n",
        "    1 \\\\\\\\\n",
        "    3\n",
        "\\end{bmatrix}\n",
        "$$\n",
        "\n",
        "y\n",
        "\n",
        "$$\n",
        "\\vec{v}=\n",
        "\\begin{bmatrix}\n",
        "    2 \\\\\\\\\n",
        "    1\n",
        "\\end{bmatrix}\n",
        "$$\n",
        "\n",
        "Estos dos vectores tienen 2 dimensiones y, por lo tanto, contienen coordenadas en 2-D.\n",
        "\n",
        "\n",
        "La combinación lineal de $\\vec{u}$ y $\\vec{v}$ es\n",
        "\n",
        "$$\n",
        "a\\vec{u}+b\\vec{v}= a\n",
        "\\begin{bmatrix}\n",
        "    1 \\\\\\\\\n",
        "    3\n",
        "\\end{bmatrix} + b\\begin{bmatrix}\n",
        "    2 \\\\\\\\\n",
        "    1\n",
        "\\end{bmatrix}\n",
        "$$\n",
        "\n",
        "\n",
        "donde $a$ y $b$ son los pesos de los vectores.\n",
        "\n",
        "Gráficamente, los vectores se suman para alcanzar un punto específico en el espacio. Por ejemplo, si $a=2$ y $b=1$:\n",
        "\n",
        "\n",
        "$$\n",
        "2\\vec{u}+\\vec{v}= 2\n",
        "\\begin{bmatrix}\n",
        "    1 \\\\\\\\\n",
        "    3\n",
        "\\end{bmatrix} +\n",
        "\\begin{bmatrix}\n",
        "    2 \\\\\\\\\n",
        "    1\n",
        "\\end{bmatrix} =\n",
        "\\begin{bmatrix}\n",
        "    2 \\cdot 1 + 2 \\\\\\\\\n",
        "    2 \\cdot 3 + 1\n",
        "\\end{bmatrix} =\n",
        "\\begin{bmatrix}\n",
        "    4 \\\\\\\\\n",
        "    7\n",
        "\\end{bmatrix}\n",
        "$$\n",
        "\n",
        "La combinación lineal de $\\vec{u}$ y $\\vec{v}$ es un vector que alcanzará el punto de coordenadas $(4,7)$. Para mostrar eso en un gráfico, usaremos la función `plotVectors()` que toma un conjunto de coordenadas y una matriz de colores como entrada y traza los vectores correspondientes. \n"
      ]
    },
    {
      "cell_type": "code",
      "metadata": {
        "id": "9BuFDzCg5WOB",
        "colab_type": "code",
        "colab": {}
      },
      "source": [
        "def plotVectors(vecs, cols, alpha=1):\n",
        "    \"\"\"\n",
        "    Plot set of vectors.\n",
        "\n",
        "    Parameters\n",
        "    ----------\n",
        "    vecs : array-like\n",
        "        Coordinates of the vectors to plot. Each vectors is in an array. For\n",
        "        instance: [[1, 3], [2, 2]] can be used to plot 2 vectors.\n",
        "    cols : array-like\n",
        "        Colors of the vectors. For instance: ['red', 'blue'] will display the\n",
        "        first vector in red and the second in blue.\n",
        "    alpha : float\n",
        "        Opacity of vectors\n",
        "\n",
        "    Returns:\n",
        "\n",
        "    fig : instance of matplotlib.figure.Figure\n",
        "        The figure of the vectors\n",
        "    \"\"\"\n",
        "    plt.figure()\n",
        "    plt.axvline(x=0, color='#A9A9A9', zorder=0)\n",
        "    plt.axhline(y=0, color='#A9A9A9', zorder=0)\n",
        "\n",
        "    for i in range(len(vecs)):\n",
        "        x = np.concatenate([[0,0],vecs[i]])\n",
        "        plt.quiver([x[0]],\n",
        "                   [x[1]],\n",
        "                   [x[2]],\n",
        "                   [x[3]],\n",
        "                   angles='xy', scale_units='xy', scale=1, color=cols[i],\n",
        "                  alpha=alpha)"
      ],
      "execution_count": 0,
      "outputs": []
    },
    {
      "cell_type": "code",
      "metadata": {
        "id": "ulcXMmfg5WOE",
        "colab_type": "code",
        "outputId": "b3b3e108-85b3-4aad-cf9c-5e81c7e9818a",
        "colab": {
          "base_uri": "https://localhost:8080/",
          "height": 286
        }
      },
      "source": [
        "orange = '#FF9A13'\n",
        "blue = '#1190FF'\n",
        "plotVectors([[1, 3], [2, 1]], [orange, blue])\n",
        "plt.xlim(0, 5)\n",
        "plt.ylim(0, 5)"
      ],
      "execution_count": 0,
      "outputs": [
        {
          "output_type": "execute_result",
          "data": {
            "text/plain": [
              "(0, 5)"
            ]
          },
          "metadata": {
            "tags": []
          },
          "execution_count": 75
        },
        {
          "output_type": "display_data",
          "data": {
            "image/png": "[encoded data removed]",
            "text/plain": [
              "<Figure size 432x288 with 1 Axes>"
            ]
          },
          "metadata": {
            "tags": []
          }
        }
      ]
    },
    {
      "cell_type": "markdown",
      "metadata": {
        "id": "RpGo7OKC5WOG",
        "colab_type": "text"
      },
      "source": [
        "Ahora vamos a realizar una combinación lineal de estos vectores."
      ]
    },
    {
      "cell_type": "code",
      "metadata": {
        "id": "zCDjB12l5WOH",
        "colab_type": "code",
        "outputId": "0a90d796-2497-44f4-8030-64cb4cb10760",
        "colab": {
          "base_uri": "https://localhost:8080/",
          "height": 269
        }
      },
      "source": [
        "# Coeficientes\n",
        "a = 2\n",
        "b = 1\n",
        "\n",
        "# Coordenadas de los vectores:\n",
        "u = [0,0,1,3]\n",
        "v = [2,6,2,1]\n",
        "\n",
        "plt.quiver([u[0], a*u[0], b*v[0]],\n",
        "           [u[1], a*u[1], b*v[1]],\n",
        "           [u[2], a*u[2], b*v[2]],\n",
        "           [u[3], a*u[3], b*v[3]],\n",
        "           angles='xy', scale_units='xy', scale=1, color=[orange, orange, blue])\n",
        "plt.xlim(-1, 8)\n",
        "plt.ylim(-1, 8)\n",
        "\n",
        "# Ejes\n",
        "plt.axvline(x=0, color='#A9A9A9')\n",
        "plt.axhline(y=0, color='#A9A9A9')\n",
        "plt.scatter(4,7,marker='x',s=50)\n",
        "\n",
        "# Nombres de los vectores\n",
        "plt.text(-0.5, 2, r'$\\vec{u}$', color=orange, size=18)\n",
        "plt.text(0.5, 4.5, r'$\\vec{u}$', color=orange, size=18)\n",
        "plt.text(2.5, 7, r'$\\vec{v}$', color=blue, size=18)\n",
        "plt.show()"
      ],
      "execution_count": 0,
      "outputs": [
        {
          "output_type": "display_data",
          "data": {
            "image/png": "[encoded data removed]",
            "text/plain": [
              "<Figure size 432x288 with 1 Axes>"
            ]
          },
          "metadata": {
            "tags": []
          }
        }
      ]
    },
    {
      "cell_type": "markdown",
      "metadata": {
        "id": "Gf7cMEkl5WOR",
        "colab_type": "text"
      },
      "source": [
        "Podemos ver que terminamos con las coordenadas ($4$, $7$)."
      ]
    },
    {
      "cell_type": "markdown",
      "metadata": {
        "id": "jauOJ_Ei5WOR",
        "colab_type": "text"
      },
      "source": [
        "### Sistema de generadores\n",
        "\n",
        "Tome los vectores $\\vec{u}$ y $\\vec{v}$ del ejemplo anterior y piense en todos los puntos a los que puede llegar combinándolos linealmente al cambiar $a$ y $b$. Este conjunto de puntos es el subespacio generado por los vectores $\\{\\vec{u},\\vec{v}\\}$."
      ]
    },
    {
      "cell_type": "code",
      "metadata": {
        "id": "I8qMZGp85WOS",
        "colab_type": "code",
        "outputId": "2497da1d-42a3-4cca-cd2f-3feca732da15",
        "colab": {
          "base_uri": "https://localhost:8080/",
          "height": 269
        }
      },
      "source": [
        "# Definimos u y v: \n",
        "u = [1, 3]\n",
        "v = [2, 1]\n",
        "\n",
        "# Graficamos una muestra de puntos del subespacio generado por u y v:\n",
        "for a in range(-10, 10):\n",
        "    for b in range(-10, 10):\n",
        "        plt.scatter(u[0] * a + v[0] * b, u[1] * a + v[1] * b, marker='.', color=blue)\n",
        "\n",
        "# Definimos los límites de los ejes:\n",
        "plt.xlim(-50, 50)\n",
        "plt.ylim(-50, 50)\n",
        "\n",
        "# Ploteamos los ejes:\n",
        "plt.axvline(x=0, color='#A9A9A9')\n",
        "plt.axhline(y=0, color='#A9A9A9')\n",
        "\n",
        "plt.show()"
      ],
      "execution_count": 0,
      "outputs": [
        {
          "output_type": "display_data",
          "data": {
            "image/png": "[encoded data removed]",
            "text/plain": [
              "<Figure size 432x288 with 1 Axes>"
            ]
          },
          "metadata": {
            "tags": []
          }
        }
      ]
    },
    {
      "cell_type": "markdown",
      "metadata": {
        "id": "LiVpu1QN5WOV",
        "colab_type": "text"
      },
      "source": [
        "#### Nota sobre espacios y subespacios\n",
        "\n",
        "(Para más detalles ver Strang (2006), p.70)\n",
        "\n",
        "Si toma un plano bidimensional en $\\mathbb{R}^3$ (espacio tridimensional), este plano es un **subespacio** de su espacio original $\\mathbb{R}^3$. De la misma manera, si comienza con un espacio $\\mathbb{R}^2$ y toma una recta en este espacio, esta recta es un subespacio del espacio original.\n",
        "\n",
        "\n",
        "La combinación lineal de vectores da vectores en el espacio original. Cada combinación lineal de vectores dentro de un espacio permanecerá en este espacio. Por ejemplo, si toma 2 rectas en un espacio $\\mathbb{R}^2$, cualquier combinación lineal le dará un vector en el mismo espacio $\\mathbb{R}^2$.\n",
        "\n",
        "<span class='pquote'>\n",
        "    La combinación lineal de vectores da vectores en el espacio original.\n",
        "</span>"
      ]
    },
    {
      "cell_type": "markdown",
      "metadata": {
        "id": "w3I_28oN5WOW",
        "colab_type": "text"
      },
      "source": [
        "### El espacio columna de una matriz\n",
        "\n",
        "También es posible representar el conjunto de ecuaciones considerando que el vector solución ${b}$ corresponde a una combinación lineal de cada columna multiplicada por sus coeficientes.\n",
        "\n",
        "Del conjunto de ecuaciones:\n",
        "\n",
        "$$\n",
        "A_{1,1}x_1 + A_{1,2}x_2 + A_{1,n}x_n = b_1 \\\\\\\\\n",
        "A_{2,1}x_1 + A_{2,2}x_2 + A_{2,n}x_n = b_2 \\\\\\\\\n",
        "\\cdots \\\\\\\\\n",
        "A_{m,1}x_1 + A_{m,2}x_2 + A_{m,n}x_n = b_m\n",
        "$$\n",
        "\n",
        "La forma columna es entonces:\n",
        "\n",
        "$$\n",
        "x_1\n",
        "\\begin{bmatrix}\n",
        "    A_{1,1}\\\\\\\\\n",
        "    A_{2,1}\\\\\\\\\n",
        "    A_{m,1}\n",
        "\\end{bmatrix}\n",
        "+\n",
        "x_2\n",
        "\\begin{bmatrix}\n",
        "    A_{1,2}\\\\\\\\\n",
        "    A_{2,2}\\\\\\\\\n",
        "    A_{m,2}\n",
        "\\end{bmatrix}\n",
        "+\n",
        "x_n\n",
        "\\begin{bmatrix}\n",
        "    A_{1,n}\\\\\\\\\n",
        "    A_{2,n}\\\\\\\\\n",
        "    A_{m,n}\n",
        "\\end{bmatrix}\n",
        "=\n",
        "\\begin{bmatrix}\n",
        "    b_1\\\\\\\\\n",
        "    b_2\\\\\\\\\n",
        "    b_m\n",
        "\\end{bmatrix}\n",
        "$$\n",
        "\n",
        "\n",
        "Desde un punto de vista gráfico, tenemos que viajar desde el origen (cero en todas las dimensiones) hasta el punto de coordenada ${b}$. Las columnas de ${A}$ nos dan las direcciones por las que podemos viajar y sus coeficientes son la longitud del camino en esa dirección.\n",
        "\n",
        "\n",
        "<span class='pquote'>\n",
        "     Las columnas de ${A}$ nos dan las direcciones por las que podemos viajar y sus coeficientes son la longitud del camino en cada dirección.\n",
        "</span>"
      ]
    },
    {
      "cell_type": "code",
      "metadata": {
        "id": "yGQ-fA2W5WOY",
        "colab_type": "code",
        "outputId": "ba106a77-afc7-43f6-e26e-ef561aa04a3f",
        "colab": {
          "base_uri": "https://localhost:8080/",
          "height": 269
        }
      },
      "source": [
        "x = np.arange(-10, 10)\n",
        "y = 0.5*x + 1\n",
        "\n",
        "y1 = -x + 4\n",
        "\n",
        "plt.figure()\n",
        "plt.plot(x, y)\n",
        "plt.plot(x, y1)\n",
        "plt.xlim(-2, 10)\n",
        "plt.ylim(-2, 10)\n",
        "# draw axes\n",
        "plt.axvline(x=0, color='#A9A9A9')\n",
        "plt.axhline(y=0, color='#A9A9A9')\n",
        "plt.show()\n",
        "plt.close()"
      ],
      "execution_count": 0,
      "outputs": [
        {
          "output_type": "display_data",
          "data": {
            "image/png": "[encoded data removed]",
            "text/plain": [
              "<Figure size 432x288 with 1 Axes>"
            ]
          },
          "metadata": {
            "tags": []
          }
        }
      ]
    },
    {
      "cell_type": "markdown",
      "metadata": {
        "id": "OSEnVd_q5WOa",
        "colab_type": "text"
      },
      "source": [
        "### Determinar si el sistema tiene una y solo una solución para cada valor de ${b}$\n",
        "\n",
        "Ahora veremos cómo determinar si un sistema de ecuaciones tiene una y solo una solución. Esto se puede dividir en dos condiciones:\n",
        "\n",
        "1. El sistema debe tener al menos una solución\n",
        "2. Entonces, el sistema debe tener **solo** una solución\n",
        "\n",
        "\n",
        "#### Sistema subdeterminado: el sistema debe tener al menos una solución para cada valor de ${b}$: $n\\geq m$\n",
        "\n",
        "<span class='pquote'>\n",
        "     Un sistema de ecuaciones subdeterminado es un sistema con menos ecuaciones que incógnitas\n",
        "</span>\n",
        "\n",
        "Si queremos que nuestro sistema tenga una única solución, un primer requisito es que $n$ no debe ser mayor que $m$.\n",
        "\n",
        "Tomemos el ejemplo de una matriz ($2\\times3$) que corresponde a un conjunto de 2 ecuaciones con 3 variables desconocidas:\n",
        "\n",
        "\n",
        "<div>\n",
        "$$\n",
        "\\begin{cases}\n",
        "8x+y+z=1\\\\\\\\\n",
        "x+y+z=1\n",
        "\\end{cases}\n",
        "$$\n",
        "</div>\n",
        "\n",
        "<div>\n",
        "$$\n",
        "x\n",
        "\\begin{bmatrix}\n",
        "    8 \\\\\\\\\n",
        "    1\n",
        "\\end{bmatrix}\n",
        "+\n",
        "y\n",
        "\\begin{bmatrix}\n",
        "    1 \\\\\\\\\n",
        "    1\n",
        "\\end{bmatrix}\n",
        "+\n",
        "z\n",
        "\\begin{bmatrix}\n",
        "    1 \\\\\\\\\n",
        "    1\n",
        "\\end{bmatrix}\n",
        "=\n",
        "\\begin{bmatrix}\n",
        "    1 \\\\\\\\\n",
        "    1\n",
        "\\end{bmatrix}\n",
        "$$\n",
        "</div>\n",
        "\n",
        "Aquí está la representación de los planos trazados con la ayuda de este [sitio web](https://technology.cpm.org/general/3dgraph/):\n",
        "\n",
        "<img src=\"images/intersection-2-planes-line.png\" alt=\"Plot showing two planes. The intersection of the two planes is a line\" title=\"The intersection of the two planes is a line\" width=\"500\">\n",
        "<em>La intersección de 2 planos es una recta</em>\n",
        "\n",
        "Podemos ver que, en el mejor de los casos, los dos planos no son paralelos y hay soluciones para el conjunto de ecuaciones. Significa que existen algunos puntos que dependen de ambos planos. Pero también podemos ver que inevitablemente hay un número infinito de puntos en la intersección (una línea que podemos ver en la figura). Necesitamos un tercer plano para tener una solución única.\n",
        "\n",
        "#### Sistema sobredeterminado: el sistema debe tener **solo** una solución para cada valor de ${b}$: $m\\geq n$\n",
        "\n",
        "\n",
        "<span class='pquote'>\n",
        "     Un sistema de ecuaciones sobredeterminado es un sistema con más ecuaciones que incógnitas\n",
        "</span>\n",
        "\n",
        "La expresión por columnas es útil para comprender por qué el sistema lineal generalmente no tiene solución si $n$ (el número de incógnitas) es menor que $m$ (el número de ecuaciones). Ejemplo:\n",
        "\n",
        "<div>\n",
        "$$\n",
        "\\begin{cases}\n",
        "y = \\frac{1}{2}x+1\\\\\\\\\n",
        "y = -x + 4\\\\\\\\\n",
        "y = 7x + 2\n",
        "\\end{cases}\n",
        "\\Leftrightarrow\n",
        "\\begin{cases}\n",
        "\\frac{1}{2}x-y = -1\\\\\\\\\n",
        "x+y=4\\\\\\\\\n",
        "7x-y=2\n",
        "\\end{cases}\n",
        "$$\n",
        "</div>\n",
        "\n",
        "Corresponde a :\n",
        "\n",
        "<div>\n",
        "$$\n",
        "x\n",
        "\\begin{bmatrix}\n",
        "    \\frac{1}{2} \\\\\\\\\n",
        "    1 \\\\\\\\\n",
        "    7\n",
        "\\end{bmatrix}\n",
        "+\n",
        "y\n",
        "\\begin{bmatrix}\n",
        "    -1 \\\\\\\\\n",
        "    1 \\\\\\\\\n",
        "    -1\n",
        "\\end{bmatrix}\n",
        "=\n",
        "\\begin{bmatrix}\n",
        "    -1 \\\\\\\\\n",
        "    4 \\\\\\\\\n",
        "    2\n",
        "\\end{bmatrix}\n",
        "$$\n",
        "</div>\n",
        "\n",
        "Así que todavía estamos viajando en nuestro espacio bidimensional pero el punto que estamos buscando está definido por 3 dimensiones. Hay casos en los que la tercera coordenada no depende de nuestro plano bidimensional $x$ - $y$. En ese caso no existe solución.\n",
        "\n",
        "<span class='pquote'>\n",
        "     Estamos viajando en un espacio 2D pero la solución está definida por 3 dimensiones. Si la tercera coordenada no se encuentra en nuestro plano 2D $x$ - $y$, entonces no hay solución.\n",
        "</span>"
      ]
    },
    {
      "cell_type": "markdown",
      "metadata": {
        "id": "ZbY3p-PL5WOb",
        "colab_type": "text"
      },
      "source": [
        "#### Dependencia lineal\n",
        "\n",
        "El número de columnas puede proporcionar información sobre el número de soluciones. Pero el número que tenemos que tener en cuenta es el número de columnas **linealmente independientes**. Las columnas son linealmente dependientes si una de ellas es una combinación lineal de las otras. Pensando en la imagen de la columna, la dirección de dos vectores linealmente dependientes es la misma. Esto no agrega una dimensión que podamos usar para viajar y alcanzar ${b}$."
      ]
    },
    {
      "cell_type": "markdown",
      "metadata": {
        "id": "CgHbpyqo5WOc",
        "colab_type": "text"
      },
      "source": [
        "Aquí hay un ejemplo de sistema lineal que contiene dependencia lineal:\n",
        "\n",
        "$$\n",
        "\\begin{cases}\n",
        "y = 2x+6\\\\\\\\\n",
        "y = 2x\n",
        "\\end{cases}\n",
        "\\Leftrightarrow\n",
        "\\begin{cases}\n",
        "2x-y = -6\\\\\\\\\n",
        "2x-y=0\n",
        "\\end{cases}\n",
        "$$\n",
        "\n",
        "Las filas muestra que el sistema no tiene solución:"
      ]
    },
    {
      "cell_type": "code",
      "metadata": {
        "id": "Jiye-PuA5WOd",
        "colab_type": "code",
        "outputId": "84d03605-7c09-4515-e30e-41c81a804c83",
        "colab": {
          "base_uri": "https://localhost:8080/",
          "height": 269
        }
      },
      "source": [
        "x = np.arange(-10, 10)\n",
        "y = 2*x + 6\n",
        "\n",
        "y1 = 2*x\n",
        "\n",
        "plt.figure()\n",
        "plt.plot(x, y)\n",
        "plt.plot(x, y1)\n",
        "plt.xlim(-2, 10)\n",
        "plt.ylim(-2, 10)\n",
        "# draw axes\n",
        "plt.axvline(x=0, color='#A9A9A9')\n",
        "plt.axhline(y=0, color='#A9A9A9')\n",
        "plt.show()\n",
        "plt.close()"
      ],
      "execution_count": 0,
      "outputs": [
        {
          "output_type": "display_data",
          "data": {
            "image/png": "[encoded data removed]",
            "text/plain": [
              "<Figure size 432x288 with 1 Axes>"
            ]
          },
          "metadata": {
            "tags": []
          }
        }
      ]
    },
    {
      "cell_type": "markdown",
      "metadata": {
        "id": "rg-bE63p5WOg",
        "colab_type": "text"
      },
      "source": [
        "Como las rectas son paralelas, no hay punto de intersección."
      ]
    },
    {
      "cell_type": "markdown",
      "metadata": {
        "id": "OucuubOU5WOh",
        "colab_type": "text"
      },
      "source": [
        "Lo podemos expresar como combinación lineal de columnas:\n",
        "\n",
        "$$\n",
        "x\n",
        "\\begin{bmatrix}\n",
        "    2 \\\\\\\\\n",
        "    2\n",
        "\\end{bmatrix}\n",
        "+\n",
        "y\n",
        "\\begin{bmatrix}\n",
        "    -1 \\\\\\\\\n",
        "    -1\n",
        "\\end{bmatrix}\n",
        "=\n",
        "\\begin{bmatrix}\n",
        "    -6 \\\\\\\\\n",
        "    0\n",
        "\\end{bmatrix}\n",
        "$$"
      ]
    },
    {
      "cell_type": "code",
      "metadata": {
        "id": "Zkshy7mT5WOh",
        "colab_type": "code",
        "outputId": "105c61ff-c618-44bd-9751-776188649f88",
        "colab": {
          "base_uri": "https://localhost:8080/",
          "height": 269
        }
      },
      "source": [
        "u = [0,0,2,2]\n",
        "v = [0,0,-1,-1]\n",
        "\n",
        "plt.quiver([u[0], v[0]],\n",
        "           [u[1], v[1]],\n",
        "           [u[2], v[2]],\n",
        "           [u[3], v[3]],\n",
        "           angles='xy', scale_units='xy', scale=1, color=[blue, orange])\n",
        "plt.xlim(-7, 3)\n",
        "plt.ylim(-2, 3)\n",
        "# draw axes\n",
        "plt.axvline(x=0, color='#A9A9A9')\n",
        "plt.axhline(y=0, color='#A9A9A9')\n",
        "plt.scatter(-6,0,marker='x',s=150)\n",
        "plt.text(-6, 0.5, r'$b$', color='b', size=18)\n",
        "plt.show()"
      ],
      "execution_count": 0,
      "outputs": [
        {
          "output_type": "display_data",
          "data": {
            "image/png": "[encoded data removed]",
            "text/plain": [
              "<Figure size 432x288 with 1 Axes>"
            ]
          },
          "metadata": {
            "tags": []
          }
        }
      ]
    },
    {
      "cell_type": "markdown",
      "metadata": {
        "id": "SCuB2oHc5WOi",
        "colab_type": "text"
      },
      "source": [
        "Nos gustaría ir a $ b $ pero el único camino que podemos tomar es la línea azul / naranja. La segunda ecuación no nos proporciona una nueva dirección que tomar, ya que es solo una combinación lineal de la primera.\n",
        "\n",
        "Por lo tanto, un sistema sobredeterminado de ecuaciones independientes tiene como máximo 1 solución."
      ]
    },
    {
      "cell_type": "markdown",
      "metadata": {
        "id": "N3O158Af5WOj",
        "colab_type": "text"
      },
      "source": [
        "### Matrices cuadradas\n",
        "\n",
        "¿Cómo podemos cumplir con las 2 condiciones ($m\\geq n$ y $n\\geq m$)? ¡Tenemos que tener $m=n$!\n",
        "\n",
        "El resultado de todo esto es que el sistema necesita una **matriz cuadrada** ${A}$ ($m=n$) con columnas linealmente independientes para obtener una única solución para cada ${b}$.\n",
        "\n",
        "<span class='pquote'>\n",
        "    El sistema necesita una matriz cuadrada ${A}$ ($m=n$) con columnas linealmente independientes para obtener una única solución para cada ${b}$\n",
        "</span>\n",
        "\n",
        "#### La inversa de una matriz existe solo si el conjunto de ecuaciones tiene una única solución para cada valor de ${b}$."
      ]
    },
    {
      "cell_type": "markdown",
      "metadata": {
        "id": "fCHLtblO5WOj",
        "colab_type": "text"
      },
      "source": [
        "### 5 - Normas"
      ]
    },
    {
      "cell_type": "markdown",
      "metadata": {
        "id": "5i8bOO1L5WOk",
        "colab_type": "text"
      },
      "source": [
        "Las normas son funciones que se caracterizan por las siguientes propiedades:\n",
        "\n",
        "1- Las normas son valores no negativos. Si piensa en las normas como una longitud, se entiende fácilmente por qué no puede ser negativo.\n",
        "\n",
        "2- Las normas son $0$ si y solo si el vector es un vector cero\n",
        "\n",
        "3- Las normas respetan la desigualdad triangular. Ver abajo.\n",
        "\n",
        "4- $||{k}\\cdot {u}|| =|{k}| \\cdot ||{u}||$. La norma de un vector multiplicado por un escalar es igual al valor absoluto de este escalar multiplicado por la norma del vector.\n",
        "\n",
        "Generalmente se escribe con dos barras horizontales: $||{x}||$\n",
        "\n",
        "\n",
        "### La desigualdad triangular:\n",
        "\n",
        "La norma de la suma de dos vectores es menor o igual que la suma de las normas de estos vectores.\n",
        "\n",
        "$$\n",
        "||{u}+{v}|| \\leq ||{u}||+||{v}||\n",
        "$$\n",
        "\n",
        "#### Ejemplo 5.1:\n",
        "\n",
        "$$\n",
        "{u}=\n",
        "\\begin{bmatrix}\n",
        "    1 & 6\n",
        "\\end{bmatrix}\n",
        "$$\n",
        "\n",
        "y\n",
        "\n",
        "$$\n",
        "{v}=\n",
        "\\begin{bmatrix}\n",
        "    4 & 2\n",
        "\\end{bmatrix}\n",
        "$$\n",
        "\n",
        "$$\n",
        "||{u}+{v}|| = \\sqrt{(1+4)^2+(6+2)^2} = \\sqrt{89} \\approx 9.43\n",
        "$$\n",
        "\n",
        "$$\n",
        "||{u}||+||{v}|| = \\sqrt{1^2+6^2}+\\sqrt{4^2+2^2} = \\sqrt{37}+\\sqrt{20} \\approx 10.55\n",
        "$$"
      ]
    },
    {
      "cell_type": "markdown",
      "metadata": {
        "id": "DvJOgN1U5WOo",
        "colab_type": "text"
      },
      "source": [
        "Revisemos estos resultados con Numpy:"
      ]
    },
    {
      "cell_type": "code",
      "metadata": {
        "id": "HgmR8Dg-5WOo",
        "colab_type": "code",
        "outputId": "f0dbc5f0-0d07-4f32-ce8f-21a801554f1e",
        "colab": {
          "base_uri": "https://localhost:8080/",
          "height": 34
        }
      },
      "source": [
        "u = np.array([1, 6])\n",
        "u"
      ],
      "execution_count": 0,
      "outputs": [
        {
          "output_type": "execute_result",
          "data": {
            "text/plain": [
              "array([1, 6])"
            ]
          },
          "metadata": {
            "tags": []
          },
          "execution_count": 92
        }
      ]
    },
    {
      "cell_type": "code",
      "metadata": {
        "id": "RPiH5eIW5WOp",
        "colab_type": "code",
        "outputId": "1b1da4c8-a985-4576-e80b-f75c5131e13b",
        "colab": {
          "base_uri": "https://localhost:8080/",
          "height": 34
        }
      },
      "source": [
        "v = np.array([4, 2])\n",
        "v"
      ],
      "execution_count": 0,
      "outputs": [
        {
          "output_type": "execute_result",
          "data": {
            "text/plain": [
              "array([4, 2])"
            ]
          },
          "metadata": {
            "tags": []
          },
          "execution_count": 84
        }
      ]
    },
    {
      "cell_type": "code",
      "metadata": {
        "id": "kazjpF3K5WOr",
        "colab_type": "code",
        "outputId": "2ae30cab-6761-4a75-f38f-599427ef7e10",
        "colab": {
          "base_uri": "https://localhost:8080/",
          "height": 34
        }
      },
      "source": [
        "u+v"
      ],
      "execution_count": 0,
      "outputs": [
        {
          "output_type": "execute_result",
          "data": {
            "text/plain": [
              "array([5, 8])"
            ]
          },
          "metadata": {
            "tags": []
          },
          "execution_count": 85
        }
      ]
    },
    {
      "cell_type": "code",
      "metadata": {
        "id": "ckFOUPMk5WOt",
        "colab_type": "code",
        "outputId": "27698408-c351-4a83-d544-7aad145e39c9",
        "colab": {
          "base_uri": "https://localhost:8080/",
          "height": 34
        }
      },
      "source": [
        "np.linalg.norm(u+v)"
      ],
      "execution_count": 0,
      "outputs": [
        {
          "output_type": "execute_result",
          "data": {
            "text/plain": [
              "9.433981132056603"
            ]
          },
          "metadata": {
            "tags": []
          },
          "execution_count": 86
        }
      ]
    },
    {
      "cell_type": "code",
      "metadata": {
        "id": "XoJhmnkV5WOu",
        "colab_type": "code",
        "outputId": "008de0e2-30bd-4b3a-ce81-149e95e58dc1",
        "colab": {
          "base_uri": "https://localhost:8080/",
          "height": 34
        }
      },
      "source": [
        "np.linalg.norm(u)+np.linalg.norm(v)"
      ],
      "execution_count": 0,
      "outputs": [
        {
          "output_type": "execute_result",
          "data": {
            "text/plain": [
              "10.554898485297798"
            ]
          },
          "metadata": {
            "tags": []
          },
          "execution_count": 87
        }
      ]
    },
    {
      "cell_type": "code",
      "metadata": {
        "id": "3jU3zeMe5WOw",
        "colab_type": "code",
        "outputId": "5e87da2d-15f4-4ddb-9495-db052f2a9b9a",
        "colab": {
          "base_uri": "https://localhost:8080/",
          "height": 269
        }
      },
      "source": [
        "u = [0,0,1,6]\n",
        "v = [0,0,4,2]\n",
        "u_bis = [1,6,v[2],v[3]]\n",
        "w = [0,0,5,8]\n",
        "plt.quiver([u[0], u_bis[0], w[0]],\n",
        "           [u[1], u_bis[1], w[1]],\n",
        "           [u[2], u_bis[2], w[2]],\n",
        "           [u[3], u_bis[3], w[3]],\n",
        "           angles='xy', scale_units='xy', scale=1, color=sns.color_palette())\n",
        "# plt.rc('text', usetex=True)\n",
        "plt.xlim(-2, 6)\n",
        "plt.ylim(-2, 9)\n",
        "plt.axvline(x=0, color='grey')\n",
        "plt.axhline(y=0, color='grey')\n",
        "\n",
        "plt.text(-1, 3.5, r'$||\\vec{u}||$', color=sns.color_palette()[0], size=20)\n",
        "plt.text(2.5, 7.5, r'$||\\vec{v}||$', color=sns.color_palette()[1], size=20)\n",
        "plt.text(2, 2, r'$||\\vec{u}+\\vec{v}||$', color=sns.color_palette()[2], size=20)\n",
        "\n",
        "plt.show()\n",
        "plt.close()"
      ],
      "execution_count": 0,
      "outputs": [
        {
          "output_type": "display_data",
          "data": {
            "image/png": "[encoded data removed]",
            "text/plain": [
              "<Figure size 432x288 with 1 Axes>"
            ]
          },
          "metadata": {
            "tags": []
          }
        }
      ]
    },
    {
      "cell_type": "markdown",
      "metadata": {
        "id": "fuaCnUoJ5WOx",
        "colab_type": "text"
      },
      "source": [
        "<span class='pquote'>\n",
        "    Geométricamente, esto simplemente significa que el camino más corto entre dos puntos es una línea\n",
        "</span>\n",
        "\n",
        "# Normas-P: reglas generales\n",
        "\n",
        "Aquí está la receta para obtener la forma $p$ de un vector:\n",
        "\n",
        "1. Calcular el valor absoluto de cada elemento\n",
        "2. Tome el poder $p$ de estos valores absolutos\n",
        "3. Sume todos estos valores absolutos potenciados\n",
        "4. Tome el poder $\\frac{1}{p}$ de este resultado\n",
        "\n",
        "Esto se expresa más condensadamente con la fórmula:\n",
        "\n",
        "$$\n",
        "||{x}||_p=(\\sum_i|{x}_i|^p)^{1/p}\n",
        "$$\n",
        "\n",
        "Veamos algunos ejemplos."
      ]
    },
    {
      "cell_type": "markdown",
      "metadata": {
        "id": "UPlAjAAJ5WOx",
        "colab_type": "text"
      },
      "source": [
        "### La Norma $L^1$ \n",
        "\n",
        "$p=1$ entonces esta norma es simplemente la suma de los valores absolutos:\n",
        "\n",
        "$$\n",
        "||{x}||_1=\\sum_{i} |{x}_i|\n",
        "$$"
      ]
    },
    {
      "cell_type": "markdown",
      "metadata": {
        "id": "Q0rEdmKV5WOy",
        "colab_type": "text"
      },
      "source": [
        "### La norma euclídea ($L^2$ norm)\n",
        "\n",
        "La norma euclídea es la norma $p$ con $p = 2$. Esta puede ser la norma más utilizada con la norma al cuadrado $L^2$.\n",
        "\n",
        "$$\n",
        "||{x}||_2=(\\sum_i {x}_i^2)^{1/2}\\Leftrightarrow \\sqrt{\\sum_i {x}_i^2}\n",
        "$$\n",
        "\n",
        "Veamos un ejemplo:"
      ]
    },
    {
      "cell_type": "markdown",
      "metadata": {
        "id": "jU1wAMg_5WOy",
        "colab_type": "text"
      },
      "source": [
        "#### Example 5.2.\n",
        "\n",
        "Gráficamente, la norma euclidiana corresponde a la longitud del vector desde el origen hasta el punto obtenido por combinación lineal (como la aplicación del teorema de Pitágoras).\n",
        "\n",
        "$$\n",
        "{u}=\n",
        "\\begin{bmatrix}\n",
        "    3 \\\\\\\\\n",
        "    4\n",
        "\\end{bmatrix}\n",
        "$$\n",
        "\n",
        "$$\n",
        "\\begin{align*}\n",
        "||{u}||_2 &=\\sqrt{|3|^2+|4|^2}\\\\\\\\\n",
        "&=\\sqrt{25}\\\\\\\\\n",
        "&=5\n",
        "\\end{align*}\n",
        "$$\n",
        "\n",
        "\n",
        "So the $L^2$ norm is $5$."
      ]
    },
    {
      "cell_type": "markdown",
      "metadata": {
        "id": "3jO61G-j5WOz",
        "colab_type": "text"
      },
      "source": [
        "La norma $L^2$ se puede calcular con la función `linalg.norm` de numpy. Podemos verificar el resultado:"
      ]
    },
    {
      "cell_type": "code",
      "metadata": {
        "id": "Zcqq5MzW5WOz",
        "colab_type": "code",
        "outputId": "e1377ab7-87c6-4f99-e7f6-3b75343aafb0",
        "colab": {
          "base_uri": "https://localhost:8080/",
          "height": 34
        }
      },
      "source": [
        "np.linalg.norm([3, 4])"
      ],
      "execution_count": 0,
      "outputs": [
        {
          "output_type": "execute_result",
          "data": {
            "text/plain": [
              "5.0"
            ]
          },
          "metadata": {
            "tags": []
          },
          "execution_count": 94
        }
      ]
    },
    {
      "cell_type": "markdown",
      "metadata": {
        "id": "YRKWSF0F5WO1",
        "colab_type": "text"
      },
      "source": [
        "Lo vemos gráficamente:"
      ]
    },
    {
      "cell_type": "code",
      "metadata": {
        "id": "7baqmkYi5WO2",
        "colab_type": "code",
        "outputId": "e5aea543-2106-4d5d-a090-b2d4c306299a",
        "colab": {
          "base_uri": "https://localhost:8080/",
          "height": 269
        }
      },
      "source": [
        "u = [0,0,3,4]\n",
        "\n",
        "plt.quiver([u[0]],\n",
        "           [u[1]],\n",
        "           [u[2]],\n",
        "           [u[3]],\n",
        "           angles='xy', scale_units='xy', scale=1)\n",
        "\n",
        "plt.xlim(-2, 4)\n",
        "plt.ylim(-2, 5)\n",
        "plt.axvline(x=0, color='grey')\n",
        "plt.axhline(y=0, color='grey')\n",
        "\n",
        "plt.annotate('', xy = (3.2, 0), xytext = (3.2, 4),\n",
        "             arrowprops=dict(edgecolor='black', arrowstyle = '<->'))\n",
        "plt.annotate('', xy = (0, -0.2), xytext = (3, -0.2),\n",
        "             arrowprops=dict(edgecolor='black', arrowstyle = '<->'))\n",
        "\n",
        "plt.text(1, 2.5, r'$\\vec{u}$', size=18)\n",
        "plt.text(3.3, 2, r'$\\vec{u}_y$', size=18)\n",
        "plt.text(1.5, -1, r'$\\vec{u}_x$', size=18)\n",
        "\n",
        "plt.show()"
      ],
      "execution_count": 0,
      "outputs": [
        {
          "output_type": "display_data",
          "data": {
            "image/png": "[encoded data removed]",
            "text/plain": [
              "<Figure size 432x288 with 1 Axes>"
            ]
          },
          "metadata": {
            "tags": []
          }
        }
      ]
    },
    {
      "cell_type": "markdown",
      "metadata": {
        "id": "8xV3cnkt5WPC",
        "colab_type": "text"
      },
      "source": [
        "### La norma $L^2$ al cuadrado\n",
        "\n",
        "$$\n",
        "\\sum_i|{x}_i|^2\n",
        "$$\n",
        "\n",
        "\n",
        "La norma $L^2$ al cuadrado es conveniente porque elimina la raíz cuadrada y terminamos con la suma simple de todos los valores al cuadrado del vector.\n",
        "\n",
        "La norma euclidiana al cuadrado se usa ampliamente en machine learning, en parte porque se puede calcular con la operación vectorial ${x}^\\text{T}{x}$.\n"
      ]
    },
    {
      "cell_type": "markdown",
      "metadata": {
        "id": "HDsL_sby5WPC",
        "colab_type": "text"
      },
      "source": [
        "#### Example 5.3.\n",
        "\n",
        "$$\n",
        "{x}=\n",
        "\\begin{bmatrix}\n",
        "    2 \\\\\\\\\n",
        "    5 \\\\\\\\\n",
        "    3 \\\\\\\\\n",
        "    3\n",
        "\\end{bmatrix}\n",
        "$$\n",
        "\n",
        "$$\n",
        "{x}^\\text{T}=\n",
        "\\begin{bmatrix}\n",
        "    2 & 5 & 3 & 3\n",
        "\\end{bmatrix}\n",
        "$$\n",
        "\n",
        "$$\n",
        "\\begin{align*}\n",
        "{x}^\\text{T}{x}&=\n",
        "\\begin{bmatrix}\n",
        "    2 & 5 & 3 & 3\n",
        "\\end{bmatrix} \\times\n",
        "\\begin{bmatrix}\n",
        "    2 \\\\\\\\\n",
        "    5 \\\\\\\\\n",
        "    3 \\\\\\\\\n",
        "    3\n",
        "\\end{bmatrix}\\\\\\\\\n",
        "&= 2\\times 2 + 5\\times 5 + 3\\times 3 + 3\\times 3= 47\n",
        "\\end{align*}\n",
        "$$"
      ]
    },
    {
      "cell_type": "code",
      "metadata": {
        "id": "U3piSJRa5WPE",
        "colab_type": "code",
        "outputId": "068d5ac2-36de-4c0f-982a-efd389a52c99",
        "colab": {
          "base_uri": "https://localhost:8080/",
          "height": 85
        }
      },
      "source": [
        "x = np.array([[2], [5], [3], [3]])\n",
        "x"
      ],
      "execution_count": 0,
      "outputs": [
        {
          "output_type": "execute_result",
          "data": {
            "text/plain": [
              "array([[2],\n",
              "       [5],\n",
              "       [3],\n",
              "       [3]])"
            ]
          },
          "metadata": {
            "tags": []
          },
          "execution_count": 97
        }
      ]
    },
    {
      "cell_type": "code",
      "metadata": {
        "id": "t6sJ9YV15WPG",
        "colab_type": "code",
        "outputId": "b1368bfe-2a19-4a93-fac4-c0d349d513f1",
        "colab": {
          "base_uri": "https://localhost:8080/",
          "height": 34
        }
      },
      "source": [
        "euclideanNorm = x.T.dot(x)\n",
        "euclideanNorm"
      ],
      "execution_count": 0,
      "outputs": [
        {
          "output_type": "execute_result",
          "data": {
            "text/plain": [
              "array([[47]])"
            ]
          },
          "metadata": {
            "tags": []
          },
          "execution_count": 98
        }
      ]
    },
    {
      "cell_type": "code",
      "metadata": {
        "id": "m0TIEvIa5WPJ",
        "colab_type": "code",
        "outputId": "d5617624-72a8-4faf-c111-880b68ac3015",
        "colab": {
          "base_uri": "https://localhost:8080/",
          "height": 34
        }
      },
      "source": [
        "np.linalg.norm(x)**2"
      ],
      "execution_count": 0,
      "outputs": [
        {
          "output_type": "execute_result",
          "data": {
            "text/plain": [
              "47.0"
            ]
          },
          "metadata": {
            "tags": []
          },
          "execution_count": 99
        }
      ]
    },
    {
      "cell_type": "markdown",
      "metadata": {
        "id": "kW7VliiG5WPK",
        "colab_type": "text"
      },
      "source": [
        "### La norma max\n",
        "\n",
        "Es la norma $L^\\infty$ y corresponde al valor absoluto del elemento más grande del vector.\n",
        "\n",
        "$$\n",
        "||{x}||_\\infty = \\max\\limits_i|x_i|\n",
        "$$\n",
        "\n",
        "\n",
        "### Normas matriciales: la norma de Frobenius\n",
        "\n",
        "$$\n",
        "||{A}||_F=\\sqrt{\\sum_{i,j}A^2_{i,j}}\n",
        "$$\n",
        "\n",
        "\n",
        "Esto es equivalente a tomar la norma $L^2$ de la matriz después de aplanar.\n",
        "\n",
        "Se puede usar la misma función de Numpy:"
      ]
    },
    {
      "cell_type": "code",
      "metadata": {
        "id": "kmB8FDeD5WPL",
        "colab_type": "code",
        "outputId": "74f0811d-edab-4e52-fd8e-795de4b58d4a",
        "colab": {
          "base_uri": "https://localhost:8080/",
          "height": 68
        }
      },
      "source": [
        "A = np.array([[1, 2], [6, 4], [3, 2]])\n",
        "A"
      ],
      "execution_count": 0,
      "outputs": [
        {
          "output_type": "execute_result",
          "data": {
            "text/plain": [
              "array([[1, 2],\n",
              "       [6, 4],\n",
              "       [3, 2]])"
            ]
          },
          "metadata": {
            "tags": []
          },
          "execution_count": 100
        }
      ]
    },
    {
      "cell_type": "code",
      "metadata": {
        "id": "iCSqKjfs5WPN",
        "colab_type": "code",
        "outputId": "bca1b182-1d3c-42e4-a0ea-138f3662e461",
        "colab": {
          "base_uri": "https://localhost:8080/",
          "height": 34
        }
      },
      "source": [
        "np.linalg.norm(A)"
      ],
      "execution_count": 0,
      "outputs": [
        {
          "output_type": "execute_result",
          "data": {
            "text/plain": [
              "8.366600265340756"
            ]
          },
          "metadata": {
            "tags": []
          },
          "execution_count": 101
        }
      ]
    },
    {
      "cell_type": "markdown",
      "metadata": {
        "id": "wUarbj2p5WPQ",
        "colab_type": "text"
      },
      "source": [
        "####  El producto escalar de dos vectores puede ser escrito en términos de sus normas y el ángulo entre ellos. \n",
        "\n",
        "$$\n",
        "{x}^\\text{T}{y} = ||{x}||_2\\cdot||{y}||_2\\cos\\theta\n",
        "$$"
      ]
    },
    {
      "cell_type": "markdown",
      "metadata": {
        "id": "b7RCYey25WPR",
        "colab_type": "text"
      },
      "source": [
        "#### Ejemplo 5.4.\n",
        "\n",
        "$$\n",
        "{x}=\n",
        "\\begin{bmatrix}\n",
        "    0 \\\\\\\\\n",
        "    2\n",
        "\\end{bmatrix}\n",
        "$$\n",
        "\n",
        "y \n",
        "\n",
        "$$\n",
        "{y}=\n",
        "\\begin{bmatrix}\n",
        "    2 \\\\\\\\\n",
        "    2\n",
        "\\end{bmatrix}\n",
        "$$"
      ]
    },
    {
      "cell_type": "code",
      "metadata": {
        "id": "oq5d6HXK5WPR",
        "colab_type": "code",
        "outputId": "e8d94023-9fac-423a-a083-e81ca0248595",
        "colab": {
          "base_uri": "https://localhost:8080/",
          "height": 269
        }
      },
      "source": [
        "x = [0,0,0,2]\n",
        "y = [0,0,2,2]\n",
        "\n",
        "plt.xlim(-2, 4)\n",
        "plt.ylim(-2, 5)\n",
        "plt.axvline(x=0, color='grey', zorder=0)\n",
        "plt.axhline(y=0, color='grey', zorder=0)\n",
        "\n",
        "plt.quiver([x[0], y[0]],\n",
        "           [x[1], y[1]],\n",
        "           [x[2], y[2]],\n",
        "           [x[3], y[3]],\n",
        "           angles='xy', scale_units='xy', scale=1)\n",
        "\n",
        "plt.text(-0.5, 1, r'$\\vec{x}$', size=18)\n",
        "plt.text(1.5, 0.5, r'$\\vec{y}$', size=18)\n",
        "\n",
        "plt.show()\n",
        "plt.close()"
      ],
      "execution_count": 0,
      "outputs": [
        {
          "output_type": "display_data",
          "data": {
            "image/png": "[encoded data removed]",
            "text/plain": [
              "<Figure size 432x288 with 1 Axes>"
            ]
          },
          "metadata": {
            "tags": []
          }
        }
      ]
    },
    {
      "cell_type": "markdown",
      "metadata": {
        "id": "0lTuP5In5WPU",
        "colab_type": "text"
      },
      "source": [
        "Tomamos este ejemplo por su simplicidad. Como podemos ver, el ángulo $ \\ theta $ es igual a 45 °."
      ]
    },
    {
      "cell_type": "markdown",
      "metadata": {
        "id": "dziSP5Xj5WPV",
        "colab_type": "text"
      },
      "source": [
        "$$\n",
        "{x^\\text{T}y}=\n",
        "\\begin{bmatrix}\n",
        "    0 & 2\n",
        "\\end{bmatrix} \\cdot\n",
        "\\begin{bmatrix}\n",
        "    2 \\\\\\\\\n",
        "    2\n",
        "\\end{bmatrix} =\n",
        "0\\times2+2\\times2 = 4\n",
        "$$\n",
        "\n",
        "and\n",
        "\n",
        "$$\n",
        "||{x}||_2=\\sqrt{0^2+2^2}=\\sqrt{4}=2\n",
        "$$\n",
        "\n",
        "$$\n",
        "||{y}||_2=\\sqrt{2^2+2^2}=\\sqrt{8}\n",
        "$$\n",
        "\n",
        "$$\n",
        "2\\times\\sqrt{8}\\times cos(45)=4\n",
        "$$\n",
        "\n",
        "Veamos las operaciones usando Numpy:"
      ]
    },
    {
      "cell_type": "code",
      "metadata": {
        "id": "Rr9VYgPK5WPV",
        "colab_type": "code",
        "outputId": "65484670-da01-40fc-902a-0513ddc2f15c",
        "colab": {
          "base_uri": "https://localhost:8080/",
          "height": 34
        }
      },
      "source": [
        "# Nota: np.cos() toma los ángulos en radianes\n",
        "\n",
        "2*np.sqrt(8)*np.cos(np.deg2rad(45))"
      ],
      "execution_count": 0,
      "outputs": [
        {
          "output_type": "execute_result",
          "data": {
            "text/plain": [
              "4.000000000000001"
            ]
          },
          "metadata": {
            "tags": []
          },
          "execution_count": 104
        }
      ]
    },
    {
      "cell_type": "markdown",
      "metadata": {
        "id": "f_4E3i8s5WPX",
        "colab_type": "text"
      },
      "source": [
        "## 6 Clases especiales de matrices y vectores"
      ]
    },
    {
      "cell_type": "markdown",
      "metadata": {
        "id": "2tUsTDfJ5WPX",
        "colab_type": "text"
      },
      "source": [
        "<img src=\"https://raw.githubusercontent.com/sebamacchia/digitalHouse/master/images/images/diagonal-and-symmetric-matrices.png?token=AGCOYRNHYJ6GXVUORDEPITK5JIHRS\" width=\"400\" alt=\"Diagonal and symmetric matrices\" title=\"Diagonal and symmetric matrices\">\n",
        "<em>Ejemplos de matrices diagonales y simétricas</em>\n",
        "\n",
        "\n",
        "### Matrices diagonales"
      ]
    },
    {
      "cell_type": "markdown",
      "metadata": {
        "id": "k1gL6mvO5WPY",
        "colab_type": "text"
      },
      "source": [
        "<img src=\"https://raw.githubusercontent.com/sebamacchia/digitalHouse/master/images/images/diagonal-matrix.png?token=AGCOYRN42EDGCVH4KX7AN5K5JIHUA\" width=\"150\" alt=\"Example of a diagonal matrix\" title=\"Diagonal matrix\">\n",
        "<em>Ejemplo de matríz diagonal</em>\n",
        "\n",
        "Una matríz ${A}_{i,j}$ es diagonal si todas sus entradas son ceros excepto en la diagonal (cuando $ i = j $).\n",
        "\n",
        "#### Ejemplo 6.1.\n",
        "\n",
        "$$\n",
        "{D}=\n",
        "\\begin{bmatrix}\n",
        "    2 & 0 & 0 & 0\\\\\\\\\n",
        "    0 & 4 & 0 & 0\\\\\\\\\n",
        "    0 & 0 & 3 & 0\\\\\\\\\n",
        "    0 & 0 & 0 & 1\n",
        "\\end{bmatrix}\n",
        "$$\n",
        "\n",
        "En este caso, la matriz también es cuadrada, pero puede haber matrices diagonales no cuadradas.\n",
        "\n",
        "#### Ejemplo 6.2.\n",
        "\n",
        "$$\n",
        "{D}=\n",
        "\\begin{bmatrix}\n",
        "    2 & 0 & 0\\\\\\\\\n",
        "    0 & 4 & 0\\\\\\\\\n",
        "    0 & 0 & 3\\\\\\\\\n",
        "    0 & 0 & 0\n",
        "\\end{bmatrix}\n",
        "$$\n",
        "\n",
        "O\n",
        "\n",
        "$$\n",
        "{D}=\n",
        "\\begin{bmatrix}\n",
        "    2 & 0 & 0 & 0\\\\\\\\\n",
        "    0 & 4 & 0 & 0\\\\\\\\\n",
        "    0 & 0 & 3 & 0\n",
        "\\end{bmatrix}\n",
        "$$\n",
        "\n",
        "La matriz diagonal se puede denotar $diag({v})$ donde ${v}$ es el vector que contiene los valores diagonales.\n",
        "\n",
        "#### Ejemplo 6.3.\n",
        "\n",
        "$$\n",
        "{D}=\n",
        "\\begin{bmatrix}\n",
        "    2 & 0 & 0 & 0\\\\\\\\\n",
        "    0 & 4 & 0 & 0\\\\\\\\\n",
        "    0 & 0 & 3 & 0\\\\\\\\\n",
        "    0 & 0 & 0 & 1\n",
        "\\end{bmatrix}\n",
        "$$\n",
        "\n",
        "En esta matríz, ${v}$ es el siguiente vector:\n",
        "\n",
        "$$\n",
        "{v}=\n",
        "\\begin{bmatrix}\n",
        "    2\\\\\\\\\n",
        "    4\\\\\\\\\n",
        "    3\\\\\\\\\n",
        "    1\n",
        "\\end{bmatrix}\n",
        "$$\n",
        "\n",
        "La función de Numpy `diag()` se puede usar para crear matrices diagonales cuadradas:"
      ]
    },
    {
      "cell_type": "code",
      "metadata": {
        "id": "VVsTug6I5WPY",
        "colab_type": "code",
        "outputId": "341b8d5b-60ce-46f0-a033-89a7d067225c",
        "colab": {
          "base_uri": "https://localhost:8080/",
          "height": 85
        }
      },
      "source": [
        "v = np.array([2, 4, 3, 1])\n",
        "np.diag(v)"
      ],
      "execution_count": 0,
      "outputs": [
        {
          "output_type": "execute_result",
          "data": {
            "text/plain": [
              "array([[2, 0, 0, 0],\n",
              "       [0, 4, 0, 0],\n",
              "       [0, 0, 3, 0],\n",
              "       [0, 0, 0, 1]])"
            ]
          },
          "metadata": {
            "tags": []
          },
          "execution_count": 106
        }
      ]
    },
    {
      "cell_type": "markdown",
      "metadata": {
        "id": "TlxJZj3m5WPc",
        "colab_type": "text"
      },
      "source": [
        "La multiplicación entre una matriz diagonal y un vector es solo una ponderación de cada elemento del vector por $v$:\n",
        "\n",
        "#### Ejemplo 6.4.\n",
        "\n",
        "$$\n",
        "{D}=\n",
        "\\begin{bmatrix}\n",
        "    2 & 0 & 0 & 0\\\\\\\\\n",
        "    0 & 4 & 0 & 0\\\\\\\\\n",
        "    0 & 0 & 3 & 0\\\\\\\\\n",
        "    0 & 0 & 0 & 1\n",
        "\\end{bmatrix}\n",
        "$$\n",
        "\n",
        "y\n",
        "\n",
        "$$\n",
        "{x}=\n",
        "\\begin{bmatrix}\n",
        "    3\\\\\\\\\n",
        "    2\\\\\\\\\n",
        "    2\\\\\\\\\n",
        "    7\n",
        "\\end{bmatrix}\n",
        "$$\n",
        "\n",
        "$$\n",
        "\\begin{align*}\n",
        "&{Dx}=\n",
        "\\begin{bmatrix}\n",
        "    2 & 0 & 0 & 0\\\\\\\\\n",
        "    0 & 4 & 0 & 0\\\\\\\\\n",
        "    0 & 0 & 3 & 0\\\\\\\\\n",
        "    0 & 0 & 0 & 1\n",
        "\\end{bmatrix} \\times\n",
        "\\begin{bmatrix}\n",
        "    3\\\\\\\\\n",
        "    2\\\\\\\\\n",
        "    2\\\\\\\\\n",
        "    7\n",
        "\\end{bmatrix}\\\\\\\\\n",
        "&=\\begin{bmatrix}\n",
        "    2\\times3 + 0\\times2 + 0\\times2 + 0\\times7\\\\\\\\\n",
        "    0\\times3 + 4\\times2 + 0\\times2 + 0\\times7\\\\\\\\\n",
        "    0\\times3 + 0\\times2 + 3\\times2 + 0\\times7\\\\\\\\\n",
        "    0\\times3 + 0\\times2 + 0\\times2 + 1\\times7\n",
        "\\end{bmatrix}\\\\\\\\\n",
        "&=\n",
        "\\begin{bmatrix}\n",
        "    2\\times3\\\\\\\\\n",
        "    4\\times2\\\\\\\\\n",
        "    3\\times2\\\\\\\\\n",
        "    1\\times7\n",
        "\\end{bmatrix}\n",
        "\\end{align*}\n",
        "$$"
      ]
    },
    {
      "cell_type": "markdown",
      "metadata": {
        "id": "-iQR4aCx5WPc",
        "colab_type": "text"
      },
      "source": [
        "Las matrices no cuadradas tienen las mismas propiedades:\n",
        "\n",
        "#### Ejemplo 6.5.\n",
        "\n",
        "$$\n",
        "{D}=\n",
        "\\begin{bmatrix}\n",
        "    2 & 0 & 0\\\\\\\\\n",
        "    0 & 4 & 0\\\\\\\\\n",
        "    0 & 0 & 3\\\\\\\\\n",
        "    0 & 0 & 0\n",
        "\\end{bmatrix}\n",
        "$$\n",
        "\n",
        "y\n",
        "\n",
        "$$\n",
        "{x}=\n",
        "\\begin{bmatrix}\n",
        "    3\\\\\\\\\n",
        "    2\\\\\\\\\n",
        "    2\n",
        "\\end{bmatrix}\n",
        "$$\n",
        "\n",
        "$$\n",
        "{Dx}=\n",
        "\\begin{bmatrix}\n",
        "    2 & 0 & 0\\\\\\\\\n",
        "    0 & 4 & 0\\\\\\\\\n",
        "    0 & 0 & 3\\\\\\\\\n",
        "    0 & 0 & 0\n",
        "\\end{bmatrix}\n",
        "\\times\n",
        "\\begin{bmatrix}\n",
        "    3\\\\\\\\\n",
        "    2\\\\\\\\\n",
        "    2\n",
        "\\end{bmatrix}\n",
        "=\n",
        "\\begin{bmatrix}\n",
        "    2\\times3\\\\\\\\\n",
        "    4\\times2\\\\\\\\\n",
        "    3\\times2\\\\\\\\\n",
        "    0\n",
        "\\end{bmatrix}\n",
        "$$"
      ]
    },
    {
      "cell_type": "markdown",
      "metadata": {
        "id": "RFXLQL2d5WPd",
        "colab_type": "text"
      },
      "source": [
        "La inversa de una matriz diagonal cuadrada existe si todas las entradas de la diagonal no son ceros. Si es el caso, la inversión es fácil de encontrar. Además, el inverso no existe si la matriz no es cuadrada.\n",
        "\n",
        "$$\n",
        "{D}=\n",
        "\\begin{bmatrix}\n",
        "    2 & 0 & 0 & 0\\\\\\\\\n",
        "    0 & 4 & 0 & 0\\\\\\\\\n",
        "    0 & 0 & 3 & 0\\\\\\\\\n",
        "    0 & 0 & 0 & 1\n",
        "\\end{bmatrix}\n",
        "$$\n",
        "\n",
        "$$\n",
        "{D}^{-1}=\n",
        "\\begin{bmatrix}\n",
        "    \\frac{1}{2} & 0 & 0 & 0\\\\\\\\\n",
        "    0 & \\frac{1}{4} & 0 & 0\\\\\\\\\n",
        "    0 & 0 & \\frac{1}{3} & 0\\\\\\\\\n",
        "    0 & 0 & 0 & \\frac{1}{1}\n",
        "\\end{bmatrix}\n",
        "$$\n",
        "\n",
        "$$\n",
        "{D}=\n",
        "\\begin{bmatrix}\n",
        "    2 & 0 & 0 & 0\\\\\\\\\n",
        "    0 & 4 & 0 & 0\\\\\\\\\n",
        "    0 & 0 & 3 & 0\\\\\\\\\n",
        "    0 & 0 & 0 & 1\n",
        "\\end{bmatrix}\n",
        "\\begin{bmatrix}\n",
        "    \\frac{1}{2} & 0 & 0 & 0\\\\\\\\\n",
        "    0 & \\frac{1}{4} & 0 & 0\\\\\\\\\n",
        "    0 & 0 & \\frac{1}{3} & 0\\\\\\\\\n",
        "    0 & 0 & 0 & \\frac{1}{1}\n",
        "\\end{bmatrix}=\n",
        "\\begin{bmatrix}\n",
        "    1 & 0 & 0 & 0\\\\\\\\\n",
        "    0 & 1 & 0 & 0\\\\\\\\\n",
        "    0 & 0 & 1 & 0\\\\\\\\\n",
        "    0 & 0 & 0 & 1\n",
        "\\end{bmatrix}\n",
        "$$\n",
        "\n",
        "Verifiquemos con Numpy que la multiplicación de la matriz con su invera nos da la matriz de identidad:"
      ]
    },
    {
      "cell_type": "code",
      "metadata": {
        "id": "a9OFpELu5WPe",
        "colab_type": "code",
        "colab": {}
      },
      "source": [
        "A = np.array([[2, 0, 0, 0], [0, 4, 0, 0], [0, 0, 3, 0], [0, 0, 0, 1]])\n",
        "A"
      ],
      "execution_count": 0,
      "outputs": []
    },
    {
      "cell_type": "code",
      "metadata": {
        "id": "63IpDjeD5WPg",
        "colab_type": "code",
        "colab": {}
      },
      "source": [
        "A_inv = np.array([[1/2., 0, 0, 0], [0, 1/4., 0, 0], [0, 0, 1/3., 0], [0, 0, 0, 1/1.]])\n",
        "A_inv"
      ],
      "execution_count": 0,
      "outputs": []
    },
    {
      "cell_type": "code",
      "metadata": {
        "id": "pokaSpWa5WPh",
        "colab_type": "code",
        "colab": {}
      },
      "source": [
        "A.dot(A_inv)"
      ],
      "execution_count": 0,
      "outputs": []
    },
    {
      "cell_type": "markdown",
      "metadata": {
        "id": "zVVNoBog5WPw",
        "colab_type": "text"
      },
      "source": [
        "### Matrices simétricas\n",
        "\n",
        "<img src=\"images/symmetric-matrix.png\" width=\"150\" alt=\"Illustration of a symmetric matrix\" title=\"Symmetric matrix\">\n",
        "<em>Ejemplo de una matriz simétrica</em>\n",
        "\n",
        "La matriz $A$ es simétrica si es igual a su transpuesta:\n",
        "    \n",
        "$$\n",
        "{A} = {A}^\\text{T}\n",
        "$$\n",
        "\n",
        "Esta es una propiedad solamente de las matrices cuadradas\n",
        "\n",
        "#### Ejemplo 6.6.\n",
        "\n",
        "$$\n",
        "{A}=\n",
        "\\begin{bmatrix}\n",
        "    2 & 4 & -1\\\\\\\\\n",
        "    4 & -8 & 0\\\\\\\\\n",
        "    -1 & 0 & 3\n",
        "\\end{bmatrix}\n",
        "$$"
      ]
    },
    {
      "cell_type": "code",
      "metadata": {
        "id": "TYM_qop35WPy",
        "colab_type": "code",
        "colab": {}
      },
      "source": [
        "A = np.array([[2, 4, -1], [4, -8, 0], [-1, 0, 3]])\n",
        "A"
      ],
      "execution_count": 0,
      "outputs": []
    },
    {
      "cell_type": "code",
      "metadata": {
        "id": "so1pKICG5WPz",
        "colab_type": "code",
        "colab": {}
      },
      "source": [
        "A.T"
      ],
      "execution_count": 0,
      "outputs": []
    },
    {
      "cell_type": "markdown",
      "metadata": {
        "id": "ZhV1QVIq5WP2",
        "colab_type": "text"
      },
      "source": [
        "### Vectores Unitarios\n",
        "\n",
        "Un vector unitario es un vector de longitud igual a 1. Se puede denotar con una letra con un sombrero: $\\hat{u}$"
      ]
    },
    {
      "cell_type": "markdown",
      "metadata": {
        "id": "yNZ_rlhk5WP2",
        "colab_type": "text"
      },
      "source": [
        "### Vectores Ortogonales\n",
        "\n",
        "Dos vectores ortogonales están separados por un ángulo de 90 °. El producto escalar de dos vectores ortogonales da 0.\n",
        "\n",
        "#### Ejemplo 6.7."
      ]
    },
    {
      "cell_type": "code",
      "metadata": {
        "id": "4RpaFgGG5WP7",
        "colab_type": "code",
        "outputId": "b138f80f-485d-4e85-fa6a-a24f5277e9ca",
        "colab": {
          "base_uri": "https://localhost:8080/",
          "height": 269
        }
      },
      "source": [
        "x = [0,0,2,2]\n",
        "y = [0,0,2,-2]\n",
        "\n",
        "plt.quiver([x[0], y[0]],\n",
        "           [x[1], y[1]],\n",
        "           [x[2], y[2]],\n",
        "           [x[3], y[3]],\n",
        "           angles='xy', scale_units='xy', scale=1)\n",
        "\n",
        "plt.xlim(-2, 4)\n",
        "plt.ylim(-3, 3)\n",
        "plt.axvline(x=0, color='grey')\n",
        "plt.axhline(y=0, color='grey')\n",
        "\n",
        "plt.text(1, 1.5, r'$\\vec{u}$', size=18)\n",
        "plt.text(1.5, -1, r'$\\vec{v}$', size=18)\n",
        "\n",
        "plt.show()"
      ],
      "execution_count": 0,
      "outputs": [
        {
          "output_type": "display_data",
          "data": {
            "image/png": "[encoded data removed]",
            "text/plain": [
              "<Figure size 432x288 with 1 Axes>"
            ]
          },
          "metadata": {
            "tags": []
          }
        }
      ]
    },
    {
      "cell_type": "markdown",
      "metadata": {
        "id": "X-ZF14Qr5WP8",
        "colab_type": "text"
      },
      "source": [
        "$$\n",
        "{x}= \n",
        "\\begin{bmatrix}\n",
        "    2\\\\\\\\\n",
        "    2\n",
        "\\end{bmatrix}\n",
        "$$\n",
        "\n",
        "and\n",
        "\n",
        "$${y}=\n",
        "\\begin{bmatrix}\n",
        "    2\\\\\\\\\n",
        "    -2\n",
        "\\end{bmatrix}\n",
        "$$\n",
        "\n",
        "$$\n",
        "{x^\\text{T}y}=\n",
        "\\begin{bmatrix}\n",
        "    2 & 2\n",
        "\\end{bmatrix}\n",
        "\\begin{bmatrix}\n",
        "    2\\\\\\\\\n",
        "    -2\n",
        "\\end{bmatrix}=\n",
        "\\begin{bmatrix}\n",
        "    2\\times2 + 2\\times-2\n",
        "\\end{bmatrix}=0\n",
        "$$\n",
        "\n",
        "\n",
        "Además, cuando la norma de los vectores ortogonales es la norma de la unidad, se denominan **ortonormal**."
      ]
    },
    {
      "cell_type": "markdown",
      "metadata": {
        "id": "4eRdYjN-5WP9",
        "colab_type": "text"
      },
      "source": [
        "<span class='pquote'>\n",
        "    Es imposible tener más de $n$ vectores mutuamente ortogonales en $\\mathbb{R}^n$.\n",
        "</span>\n",
        "\n",
        "Es imposible tener más de $n$ vectores mutuamente ortogonales en $\\mathbb{R}^n$. Por ejemplo, intente dibujar 3 vectores en un espacio bidimensional ($\\mathbb{R}^2$) que sean mutuamente ortogonales ..."
      ]
    },
    {
      "cell_type": "markdown",
      "metadata": {
        "id": "STw5FXj65WP-",
        "colab_type": "text"
      },
      "source": [
        "### Matrices Ortogonales\n",
        "\n",
        "Las matrices ortogonales son importantes porque tienen propiedades interesantes. Una matriz es ortogonal si las columnas son mutuamente ortogonales y tienen una norma unitaria (ortonormal) y las filas son mutuamente ortonormales y tienen una norma unitaria.\n",
        "\n",
        "\n",
        "<img src=\"images/orthogonal-matrix.png\" width=\"300\" alt=\"Under the hood of an orthogonal matrix\" title=\"Under the hood of an orthogonal matrix\">\n",
        "<em>Matriz ortogonal</em>\n",
        "\n",
        "$$\n",
        "{A}= \n",
        "\\begin{bmatrix}\n",
        "    A_{1,1} & A_{1,2}\\\\\\\\\n",
        "    A_{2,1} & A_{2,2}\n",
        "\\end{bmatrix}\n",
        "$$\n",
        "\n",
        "Esto significa que \n",
        "\n",
        "$$\n",
        "\\begin{bmatrix}\n",
        "    A_{1,1}\\\\\\\\\n",
        "    A_{2,1}\n",
        "\\end{bmatrix}\n",
        "$$\n",
        "\n",
        "y\n",
        "\n",
        "$$\n",
        "\\begin{bmatrix}\n",
        "    A_{1,2}\\\\\\\\\n",
        "    A_{2,2}\n",
        "\\end{bmatrix}\n",
        "$$\n",
        "\n",
        "son vectores ortogonales y también que las filas\n",
        "\n",
        "$$\n",
        "\\begin{bmatrix}\n",
        "    A_{1,1} & A_{1,2}\n",
        "\\end{bmatrix}\n",
        "$$\n",
        "\n",
        "y\n",
        "\n",
        "$$\n",
        "\\begin{bmatrix}\n",
        "    A_{2,1} & A_{2,2}\n",
        "\\end{bmatrix}\n",
        "$$\n",
        "\n",
        "son vectores ortogonales"
      ]
    },
    {
      "cell_type": "markdown",
      "metadata": {
        "id": "qyN-vRXK5WQA",
        "colab_type": "text"
      },
      "source": [
        "### Propiedad 1: ${A^\\text{T}A}={I}$\n",
        "\n",
        "Una matriz ortogonal tiene esta propiedad:\n",
        "\n",
        "$$\n",
        "{A^\\text{T}A}={AA^\\text{T}}={I}\n",
        "$$\n",
        "\n",
        "\n",
        "Podemos ver que esta afirmación es verdadera con el siguiente razonamiento:\n",
        "\n",
        "Tengamos la siguiente matriz:\n",
        "\n",
        "$$\n",
        "{A}=\\begin{bmatrix}\n",
        "    a & b\\\\\\\\\n",
        "    c & d\n",
        "\\end{bmatrix}\n",
        "$$\n",
        "\n",
        "y por lo tanto\n",
        "\n",
        "$$\n",
        "{A}^\\text{T}=\\begin{bmatrix}\n",
        "    a & c\\\\\\\\\n",
        "    b & d\n",
        "\\end{bmatrix}\n",
        "$$\n",
        "\n",
        "Calculemos el producto escalar:\n",
        "\n",
        "$$\n",
        "\\begin{align*}\n",
        "&{A^\\text{T}A}=\\begin{bmatrix}\n",
        "    a & c\\\\\\\\\n",
        "    b & d\n",
        "\\end{bmatrix}\n",
        "\\begin{bmatrix}\n",
        "    a & b\\\\\\\\\n",
        "    c & d\n",
        "\\end{bmatrix}\n",
        "=\n",
        "\\begin{bmatrix}\n",
        "    aa + cc & ab + cd\\\\\\\\\n",
        "    ab + cd & bb + dd\n",
        "\\end{bmatrix}\\\\\\\\\n",
        "&=\n",
        "\\begin{bmatrix}\n",
        "    a^2 + c^2 & ab + cd\\\\\\\\\n",
        "    ab + cd & b^2 + d^2\n",
        "\\end{bmatrix}\n",
        "\\end{align*}\n",
        "$$\n",
        "\n",
        "Anteriormente, vimos que la norma al cuadrado del vector $\\begin{bmatrix}\n",
        "    a & c\n",
        "\\end{bmatrix}$ es igual $a^2+c^2$ ($L^2$ or squared $L^2$). Ademas, vimos que las filas de ${A}$ tienen norma igual a 1 porque ${A}$ is orthogonal. Esto significa que $a^2+c^2=1$ y $b^2+d^2=1$. Por lo tanto tenemos:\n",
        "\n",
        "$$\n",
        "{A^\\text{T}A}=\n",
        "\\begin{bmatrix}\n",
        "    1 & ab + cd\\\\\\\\\n",
        "    ab + cd & 1\n",
        "\\end{bmatrix}\n",
        "$$\n",
        "\n",
        "Además, $ab+cd$ corresponde al producto de $\\begin{bmatrix}\n",
        "    a & c\n",
        "\\end{bmatrix} y \\begin{bmatrix}\n",
        "    b & d\n",
        "\\end{bmatrix}$:\n",
        "\n",
        "$$\n",
        "\\begin{bmatrix}\n",
        "    a & c\n",
        "\\end{bmatrix}\n",
        "\\begin{bmatrix}\n",
        "    b\\\\\\\\\n",
        "    d\n",
        "\\end{bmatrix}\n",
        "=\n",
        "ab+cd\n",
        "$$\n",
        "\n",
        "Y sabemos que las columnas son ortogonales, lo que significa que:\n",
        "\n",
        "$$\n",
        "\\begin{bmatrix}\n",
        "    a & c\n",
        "\\end{bmatrix}\n",
        "\\begin{bmatrix}\n",
        "    b\\\\\\\\\n",
        "    d\n",
        "\\end{bmatrix}=0\n",
        "$$\n",
        "\n",
        "Y por lo tanto tenemos la matriz identidad\n",
        "\n",
        "$$\n",
        "{A^\\text{T}A}=\\begin{bmatrix}\n",
        "    1 & 0\\\\\\\\\n",
        "    0 & 1\n",
        "\\end{bmatrix}\n",
        "$$"
      ]
    },
    {
      "cell_type": "markdown",
      "metadata": {
        "id": "0uQkmjIw5WQA",
        "colab_type": "text"
      },
      "source": [
        "### Propiedad 2: ${A}^\\text{T}={A}^{-1}$"
      ]
    },
    {
      "cell_type": "markdown",
      "metadata": {
        "id": "viPbwW2s5WQC",
        "colab_type": "text"
      },
      "source": [
        "#### Ejemplo 6.8.\n",
        "\n",
        "El seno y el coseno son convenientes para crear matrices ortogonales. Tomemos la siguiente matriz:\n",
        "\n",
        "$$\n",
        "{A}= \n",
        "\\begin{bmatrix}\n",
        "    cos(30º) & -sin(30º)\\\\\\\\\n",
        "    sin(30º) & cos(30º)\n",
        "\\end{bmatrix}\n",
        "$$"
      ]
    },
    {
      "cell_type": "code",
      "metadata": {
        "id": "1KpgMjDe5WQF",
        "colab_type": "code",
        "outputId": "b95ce26e-0d87-4a80-cfdf-f572f298a5f6",
        "colab": {
          "base_uri": "https://localhost:8080/",
          "height": 51
        }
      },
      "source": [
        "A = np.array([[np.cos(np.deg2rad(30)), -np.sin(np.deg2rad(30))],\\\n",
        "              [np.sin(np.deg2rad(30)), np.cos(np.deg2rad(30))]])\n",
        "A"
      ],
      "execution_count": 0,
      "outputs": [
        {
          "output_type": "execute_result",
          "data": {
            "text/plain": [
              "array([[ 0.8660254, -0.5      ],\n",
              "       [ 0.5      ,  0.8660254]])"
            ]
          },
          "metadata": {
            "tags": []
          },
          "execution_count": 108
        }
      ]
    },
    {
      "cell_type": "code",
      "metadata": {
        "id": "ZGo3pzDb5WQH",
        "colab_type": "code",
        "colab": {}
      },
      "source": [
        "col0 = A[:, [0]]\n",
        "col1 = A[:, [1]]\n",
        "row0 = A[0].reshape(A.shape[1], 1)\n",
        "row1 = A[1].reshape(A.shape[1], 1)"
      ],
      "execution_count": 0,
      "outputs": []
    },
    {
      "cell_type": "markdown",
      "metadata": {
        "id": "dD2OcwUQ5WQK",
        "colab_type": "text"
      },
      "source": [
        "Comprobemos la ortogonalidad de las filas y columnas:"
      ]
    },
    {
      "cell_type": "code",
      "metadata": {
        "id": "nkgw_SHH5WQL",
        "colab_type": "code",
        "outputId": "4903b7a7-c173-45a1-e19d-3d190f890e66",
        "colab": {
          "base_uri": "https://localhost:8080/",
          "height": 34
        }
      },
      "source": [
        "col0.T.dot(col1)"
      ],
      "execution_count": 0,
      "outputs": [
        {
          "output_type": "execute_result",
          "data": {
            "text/plain": [
              "array([[0.]])"
            ]
          },
          "metadata": {
            "tags": []
          },
          "execution_count": 110
        }
      ]
    },
    {
      "cell_type": "code",
      "metadata": {
        "id": "b2H-giy95WQM",
        "colab_type": "code",
        "outputId": "9c719f19-1177-4ab6-edf1-bb4bb4e7a5dd",
        "colab": {
          "base_uri": "https://localhost:8080/",
          "height": 34
        }
      },
      "source": [
        "row0.T.dot(row1)"
      ],
      "execution_count": 0,
      "outputs": [
        {
          "output_type": "execute_result",
          "data": {
            "text/plain": [
              "array([[0.]])"
            ]
          },
          "metadata": {
            "tags": []
          },
          "execution_count": 111
        }
      ]
    },
    {
      "cell_type": "markdown",
      "metadata": {
        "id": "jRCsl_8J5WQP",
        "colab_type": "text"
      },
      "source": [
        "Comprobemos que:\n",
        "\n",
        "$$\n",
        "{A^\\text{T}A}={AA^\\text{T}}={I}\n",
        "$$\n",
        "\n",
        "y por lo tanto:\n",
        "\n",
        "$$\n",
        "{A}^\\text{T}={A}^{-1}\n",
        "$$"
      ]
    },
    {
      "cell_type": "code",
      "metadata": {
        "id": "XTT2d0xx5WQU",
        "colab_type": "code",
        "outputId": "46797c23-6298-4058-944f-009b88bac2a0",
        "colab": {
          "base_uri": "https://localhost:8080/",
          "height": 51
        }
      },
      "source": [
        "A.T.dot(A)"
      ],
      "execution_count": 0,
      "outputs": [
        {
          "output_type": "execute_result",
          "data": {
            "text/plain": [
              "array([[1., 0.],\n",
              "       [0., 1.]])"
            ]
          },
          "metadata": {
            "tags": []
          },
          "execution_count": 112
        }
      ]
    },
    {
      "cell_type": "code",
      "metadata": {
        "id": "Zfs9LEeS5WQV",
        "colab_type": "code",
        "outputId": "99595494-e458-471c-a6f9-fcf312a1ca9d",
        "colab": {
          "base_uri": "https://localhost:8080/",
          "height": 51
        }
      },
      "source": [
        "A.T"
      ],
      "execution_count": 0,
      "outputs": [
        {
          "output_type": "execute_result",
          "data": {
            "text/plain": [
              "array([[ 0.8660254,  0.5      ],\n",
              "       [-0.5      ,  0.8660254]])"
            ]
          },
          "metadata": {
            "tags": []
          },
          "execution_count": 113
        }
      ]
    },
    {
      "cell_type": "code",
      "metadata": {
        "id": "6S1R0wBq5WQX",
        "colab_type": "code",
        "outputId": "79c3748e-d79f-4e47-8eb4-050ed82d451e",
        "colab": {
          "base_uri": "https://localhost:8080/",
          "height": 51
        }
      },
      "source": [
        "np.linalg.inv(A)"
      ],
      "execution_count": 0,
      "outputs": [
        {
          "output_type": "execute_result",
          "data": {
            "text/plain": [
              "array([[ 0.8660254,  0.5      ],\n",
              "       [-0.5      ,  0.8660254]])"
            ]
          },
          "metadata": {
            "tags": []
          },
          "execution_count": 114
        }
      ]
    }
  ]
}